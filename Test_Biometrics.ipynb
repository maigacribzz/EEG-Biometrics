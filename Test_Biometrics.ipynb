{
 "cells": [
  {
   "cell_type": "code",
   "execution_count": 521,
   "metadata": {},
   "outputs": [],
   "source": [
    "import pandas as pd\n",
    "import numpy as np\n",
    "import matplotlib.pyplot as plt\n",
    "%matplotlib inline\n",
    "from random import choice\n",
    "from sklearn.metrics import accuracy_score\n",
    "from sklearn.svm import SVC\n",
    "from sklearn.metrics import roc_curve\n",
    "from sklearn.decomposition import  PCA\n",
    "from sklearn.preprocessing import StandardScaler\n",
    "\n",
    "\n",
    "import warnings\n",
    "warnings.filterwarnings(\"ignore\")"
   ]
  },
  {
   "cell_type": "code",
   "execution_count": 522,
   "metadata": {},
   "outputs": [
    {
     "name": "stdout",
     "output_type": "stream",
     "text": [
      "<class 'pandas.core.frame.DataFrame'>\n",
      "RangeIndex: 993 entries, 0 to 992\n",
      "Columns: 561 entries, 0 to 560\n",
      "dtypes: float64(560), int64(1)\n",
      "memory usage: 4.3 MB\n",
      "None\n",
      "[ 1  2  3  4  5  6  7  8  9 10 11 12 13 14 15 16 17 18 19 20 21]\n"
     ]
    }
   ],
   "source": [
    "df = pd.read_excel('Train_Dataset.xlsx',header=None)\n",
    "df.head(5)\n",
    "print(df.info())\n",
    "df.rename(columns = {560:'Target'}, inplace=True)\n",
    "print(df['Target'].unique())\n",
    "df.describe()\n",
    "df.isnull().any().any()\n",
    "df.isnull().sum().sum()\n",
    "new_df = df['Target']"
   ]
  },
  {
   "cell_type": "markdown",
   "metadata": {},
   "source": [
    "## Creating random sample for Subject Train Target - Modified Version"
   ]
  },
  {
   "cell_type": "code",
   "execution_count": 523,
   "metadata": {},
   "outputs": [],
   "source": [
    "def generate_auth_dataset(df, subj, ratio=3):\n",
    "        subj_df = df.copy()\n",
    "        subj_df.loc[(subj_df['Target'] != subj), 'Target'] = 0\n",
    "        subj_df.loc[(subj_df['Target'] == subj), 'Target'] = 1\n",
    "        gen_df = subj_df[subj_df['Target'] == 1]\n",
    "        no_gen = gen_df.shape[0]\n",
    "        imp_df = subj_df[subj_df['Target'] == 0].sample(n = no_gen * ratio)\n",
    "        auth_df = pd.concat([gen_df, imp_df])\n",
    "        return auth_df"
   ]
  },
  {
   "cell_type": "code",
   "execution_count": 524,
   "metadata": {},
   "outputs": [],
   "source": [
    "df1 = generate_auth_dataset(df,1)"
   ]
  },
  {
   "cell_type": "code",
   "execution_count": 525,
   "metadata": {},
   "outputs": [
    {
     "data": {
      "text/plain": [
       "0    132\n",
       "1     44\n",
       "Name: Target, dtype: int64"
      ]
     },
     "execution_count": 525,
     "metadata": {},
     "output_type": "execute_result"
    }
   ],
   "source": [
    "df1['Target'].value_counts()"
   ]
  },
  {
   "cell_type": "markdown",
   "metadata": {},
   "source": [
    "# Subject 1 Preparation For Train Dataset"
   ]
  },
  {
   "cell_type": "markdown",
   "metadata": {},
   "source": [
    "## Applying StandardScaler to Dataset"
   ]
  },
  {
   "cell_type": "code",
   "execution_count": 526,
   "metadata": {},
   "outputs": [],
   "source": [
    "scaler = StandardScaler()\n",
    "X_Feat, y_train = df1.iloc[:, :-1].values, df1.iloc[:, -1].values\n",
    "scaler.fit(X_Feat)\n",
    "scaled_data = scaler.transform(X_Feat)"
   ]
  },
  {
   "cell_type": "markdown",
   "metadata": {},
   "source": [
    "## Feature Reductionality -  PCA "
   ]
  },
  {
   "cell_type": "code",
   "execution_count": 527,
   "metadata": {},
   "outputs": [
    {
     "data": {
      "text/plain": [
       "(176, 30)"
      ]
     },
     "execution_count": 527,
     "metadata": {},
     "output_type": "execute_result"
    }
   ],
   "source": [
    "pca = PCA(n_components=30)\n",
    "pca.fit(scaled_data)\n",
    "x_pca = pca.transform(scaled_data)\n",
    "x_pca.shape"
   ]
  },
  {
   "cell_type": "markdown",
   "metadata": {},
   "source": [
    "# Loading Dataset for Subject 1 Testing"
   ]
  },
  {
   "cell_type": "code",
   "execution_count": 528,
   "metadata": {},
   "outputs": [],
   "source": [
    "df_test = pd.read_excel('Test_Dataset.xlsx',header=None)\n",
    "df_test.rename(columns = {560:'Target'}, inplace=True)\n"
   ]
  },
  {
   "cell_type": "code",
   "execution_count": 529,
   "metadata": {},
   "outputs": [],
   "source": [
    "df1_test = generate_auth_dataset(df_test, 1, ratio=3)"
   ]
  },
  {
   "cell_type": "code",
   "execution_count": 530,
   "metadata": {},
   "outputs": [
    {
     "data": {
      "text/plain": [
       "array([1, 0], dtype=int64)"
      ]
     },
     "execution_count": 530,
     "metadata": {},
     "output_type": "execute_result"
    }
   ],
   "source": [
    "df1_test['Target'].unique()"
   ]
  },
  {
   "cell_type": "code",
   "execution_count": 531,
   "metadata": {},
   "outputs": [
    {
     "data": {
      "text/plain": [
       "0    72\n",
       "1    24\n",
       "Name: Target, dtype: int64"
      ]
     },
     "execution_count": 531,
     "metadata": {},
     "output_type": "execute_result"
    }
   ],
   "source": [
    "df1_test['Target'].value_counts()"
   ]
  },
  {
   "cell_type": "markdown",
   "metadata": {},
   "source": [
    "## Applying StandardScaler to Dataset"
   ]
  },
  {
   "cell_type": "code",
   "execution_count": 532,
   "metadata": {},
   "outputs": [],
   "source": [
    "scaler = StandardScaler()\n",
    "X_Feat_test, y_test = df1_test.iloc[:, :-1].values, df1_test.iloc[:, -1].values\n",
    "scaler.fit(X_Feat_test)\n",
    "scaled_data_test = scaler.transform(X_Feat_test)"
   ]
  },
  {
   "cell_type": "markdown",
   "metadata": {},
   "source": [
    "# Feature Reductionality -  PCA "
   ]
  },
  {
   "cell_type": "code",
   "execution_count": 533,
   "metadata": {},
   "outputs": [
    {
     "data": {
      "text/plain": [
       "(96, 30)"
      ]
     },
     "execution_count": 533,
     "metadata": {},
     "output_type": "execute_result"
    }
   ],
   "source": [
    "pca = PCA(n_components=30)\n",
    "pca.fit(scaled_data_test)\n",
    "x_pca_test = pca.transform(scaled_data_test)\n",
    "x_pca_test.shape"
   ]
  },
  {
   "cell_type": "markdown",
   "metadata": {},
   "source": [
    "# Machine Learning Application"
   ]
  },
  {
   "cell_type": "markdown",
   "metadata": {},
   "source": [
    "## Assigning Train and test Labels to Loaded Dataset"
   ]
  },
  {
   "cell_type": "code",
   "execution_count": 534,
   "metadata": {},
   "outputs": [],
   "source": [
    "X_test = x_pca_test\n",
    "X_train = x_pca"
   ]
  },
  {
   "cell_type": "code",
   "execution_count": 535,
   "metadata": {},
   "outputs": [
    {
     "name": "stdout",
     "output_type": "stream",
     "text": [
      "[[72  0]\n",
      " [24  0]]\n",
      "\n",
      "\n",
      "              precision    recall  f1-score   support\n",
      "\n",
      "           0       0.75      1.00      0.86        72\n",
      "           1       0.00      0.00      0.00        24\n",
      "\n",
      "    accuracy                           0.75        96\n",
      "   macro avg       0.38      0.50      0.43        96\n",
      "weighted avg       0.56      0.75      0.64        96\n",
      "\n"
     ]
    }
   ],
   "source": [
    "model = SVC()\n",
    "model.fit(X_train,y_train)\n",
    "predictions = model.predict(X_test)\n",
    "from sklearn.metrics import classification_report,confusion_matrix\n",
    "from sklearn.metrics import accuracy_score\n",
    "\n",
    "print(confusion_matrix(y_test,predictions))\n",
    "print('\\n')\n",
    "print(classification_report(y_test,predictions))"
   ]
  },
  {
   "cell_type": "code",
   "execution_count": 536,
   "metadata": {},
   "outputs": [
    {
     "data": {
      "text/plain": [
       "0.75"
      ]
     },
     "execution_count": 536,
     "metadata": {},
     "output_type": "execute_result"
    }
   ],
   "source": [
    "score_test1 = accuracy_score(y_test,predictions)\n",
    "score_test1"
   ]
  },
  {
   "cell_type": "code",
   "execution_count": 537,
   "metadata": {},
   "outputs": [],
   "source": [
    "from sklearn.model_selection import cross_val_score\n",
    "from sklearn.model_selection import GridSearchCV\n",
    "# SVC best estimator\n",
    "# Support Vector Classifier\n",
    "svc_params = {'C': [0.5, 0.7, 0.9, 1], 'kernel': ['rbf', 'poly', 'sigmoid', 'linear']}\n",
    "grid_svc = GridSearchCV(SVC(), svc_params)\n",
    "grid_svc.fit(X_train, y_train)\n",
    "svc = grid_svc.best_estimator_\n",
    "\n",
    "svc_score = cross_val_score(svc, X_train, y_train, cv=5)\n",
    "#print('Support Vector Classifier Cross Validation Score', round(svc_score.mean() * 100, 2).astype(str) + '%')"
   ]
  },
  {
   "cell_type": "code",
   "execution_count": 538,
   "metadata": {},
   "outputs": [],
   "source": [
    "from sklearn.metrics import roc_curve\n",
    "from sklearn.model_selection import cross_val_predict\n",
    "# Create a DataFrame with all the scores and the classifiers names.\n",
    "\n",
    "svc = grid_svc.best_estimator_\n",
    "\n",
    "svc_pred = cross_val_predict(svc, X_train, y_train, cv=5,\n",
    "                             method=\"decision_function\")"
   ]
  },
  {
   "cell_type": "code",
   "execution_count": 539,
   "metadata": {},
   "outputs": [
    {
     "name": "stdout",
     "output_type": "stream",
     "text": [
      "Support Vector Classifier:  0.8610537190082644\n"
     ]
    }
   ],
   "source": [
    "from sklearn.metrics import roc_auc_score\n",
    "\n",
    "print('Support Vector Classifier: ', roc_auc_score(y_train, svc_pred))"
   ]
  },
  {
   "cell_type": "code",
   "execution_count": 540,
   "metadata": {},
   "outputs": [
    {
     "data": {
      "image/png": "[encoded data removed]",
      "text/plain": [
       "<Figure size 1152x576 with 1 Axes>"
      ]
     },
     "metadata": {
      "needs_background": "light"
     },
     "output_type": "display_data"
    }
   ],
   "source": [
    "svc_fpr, svc_tpr, svc_threshold = roc_curve(y_train, svc_pred)\n",
    "\n",
    "def graph_roc_curve_multiple(svc_fpr, svc_tpr):\n",
    "    plt.figure(figsize=(16,8))\n",
    "    plt.title('ROC Curve SVC Classifiers', fontsize=18)\n",
    "    plt.plot(svc_fpr, svc_tpr, label='Support Vector Classifier Score: {:.4f}'.format(roc_auc_score(y_train, svc_pred)))\n",
    "    plt.plot([0, 1], [0, 1], 'k--')\n",
    "    plt.axis([-0.01, 1, 0, 1])\n",
    "    plt.xlabel('False Positive Rate', fontsize=16)\n",
    "    plt.ylabel('True Positive Rate', fontsize=16)\n",
    "    plt.annotate('Minimum ROC Score of 50% \\n (This is the minimum score to get)', xy=(0.5, 0.5), xytext=(0.6, 0.3),\n",
    "                arrowprops=dict(facecolor='#6E726D', shrink=0.05),\n",
    "                )\n",
    "    plt.legend()\n",
    "    \n",
    "graph_roc_curve_multiple(svc_fpr, svc_tpr)\n",
    "plt.show()"
   ]
  },
  {
   "cell_type": "markdown",
   "metadata": {},
   "source": [
    "# Subject 2"
   ]
  },
  {
   "cell_type": "code",
   "execution_count": 541,
   "metadata": {},
   "outputs": [],
   "source": [
    "df2 = generate_auth_dataset(df,2, ratio=3)\n",
    "df2_test = generate_auth_dataset(df_test,2, ratio=3)"
   ]
  },
  {
   "cell_type": "code",
   "execution_count": 542,
   "metadata": {},
   "outputs": [
    {
     "data": {
      "text/plain": [
       "(192, 30)"
      ]
     },
     "execution_count": 542,
     "metadata": {},
     "output_type": "execute_result"
    }
   ],
   "source": [
    "scaler = StandardScaler()\n",
    "X_Feat, y_train = df2.iloc[:, :-1].values, df2.iloc[:, -1].values\n",
    "scaler.fit(X_Feat)\n",
    "scaled_data2 = scaler.transform(X_Feat)\n",
    "\n",
    "scaler = StandardScaler()\n",
    "X_Feat_test, y_test = df2_test.iloc[:, :-1].values, df2_test.iloc[:, -1].values\n",
    "scaler.fit(X_Feat_test)\n",
    "scaled_data_test2 = scaler.transform(X_Feat_test)\n",
    "\n",
    "pca = PCA(n_components=30)\n",
    "pca.fit(scaled_data)\n",
    "x_pca2 = pca.transform(scaled_data2)\n",
    "x_pca2.shape\n"
   ]
  },
  {
   "cell_type": "code",
   "execution_count": 543,
   "metadata": {},
   "outputs": [
    {
     "data": {
      "text/plain": [
       "(96, 30)"
      ]
     },
     "execution_count": 543,
     "metadata": {},
     "output_type": "execute_result"
    }
   ],
   "source": [
    "pca = PCA(n_components=30)\n",
    "pca.fit(scaled_data_test)\n",
    "x_pca_test2 = pca.transform(scaled_data_test2)\n",
    "x_pca_test2.shape"
   ]
  },
  {
   "cell_type": "code",
   "execution_count": 544,
   "metadata": {},
   "outputs": [],
   "source": [
    "X_test = x_pca_test2\n",
    "X_train = x_pca2"
   ]
  },
  {
   "cell_type": "code",
   "execution_count": 545,
   "metadata": {},
   "outputs": [
    {
     "name": "stdout",
     "output_type": "stream",
     "text": [
      "[[70  2]\n",
      " [24  0]]\n",
      "\n",
      "\n",
      "              precision    recall  f1-score   support\n",
      "\n",
      "           0       0.74      0.97      0.84        72\n",
      "           1       0.00      0.00      0.00        24\n",
      "\n",
      "    accuracy                           0.73        96\n",
      "   macro avg       0.37      0.49      0.42        96\n",
      "weighted avg       0.56      0.73      0.63        96\n",
      "\n"
     ]
    }
   ],
   "source": [
    "model = SVC()\n",
    "model.fit(X_train,y_train)\n",
    "predictions = model.predict(X_test)\n",
    "from sklearn.metrics import classification_report,confusion_matrix\n",
    "from sklearn.metrics import accuracy_score\n",
    "\n",
    "print(confusion_matrix(y_test,predictions))\n",
    "print('\\n')\n",
    "print(classification_report(y_test,predictions))\n",
    "\n",
    "score_test2 = accuracy_score(y_test,predictions)"
   ]
  },
  {
   "cell_type": "markdown",
   "metadata": {},
   "source": [
    "## Subject 3"
   ]
  },
  {
   "cell_type": "code",
   "execution_count": 546,
   "metadata": {},
   "outputs": [],
   "source": [
    "df3 = generate_auth_dataset(df,3, ratio=3)\n",
    "df3_test = generate_auth_dataset(df_test,3, ratio=3)"
   ]
  },
  {
   "cell_type": "code",
   "execution_count": 547,
   "metadata": {},
   "outputs": [
    {
     "data": {
      "text/plain": [
       "(188, 30)"
      ]
     },
     "execution_count": 547,
     "metadata": {},
     "output_type": "execute_result"
    }
   ],
   "source": [
    "scaler = StandardScaler()\n",
    "X_Feat, y_train = df3.iloc[:, :-1].values, df3.iloc[:, -1].values\n",
    "scaler.fit(X_Feat)\n",
    "scaled_data3 = scaler.transform(X_Feat)\n",
    "\n",
    "scaler = StandardScaler()\n",
    "X_Feat_test, y_test = df3_test.iloc[:, :-1].values, df3_test.iloc[:, -1].values\n",
    "scaler.fit(X_Feat_test)\n",
    "scaled_data_test3 = scaler.transform(X_Feat_test)\n",
    "\n",
    "pca = PCA(n_components=30)\n",
    "pca.fit(scaled_data)\n",
    "x_pca3 = pca.transform(scaled_data3)\n",
    "x_pca3.shape\n"
   ]
  },
  {
   "cell_type": "code",
   "execution_count": 548,
   "metadata": {},
   "outputs": [
    {
     "data": {
      "text/plain": [
       "(96, 30)"
      ]
     },
     "execution_count": 548,
     "metadata": {},
     "output_type": "execute_result"
    }
   ],
   "source": [
    "pca = PCA(n_components=30)\n",
    "pca.fit(scaled_data_test)\n",
    "x_pca_test3 = pca.transform(scaled_data_test3)\n",
    "x_pca_test3.shape"
   ]
  },
  {
   "cell_type": "code",
   "execution_count": 549,
   "metadata": {},
   "outputs": [],
   "source": [
    "X_test = x_pca_test3\n",
    "X_train = x_pca3"
   ]
  },
  {
   "cell_type": "code",
   "execution_count": 550,
   "metadata": {},
   "outputs": [
    {
     "name": "stdout",
     "output_type": "stream",
     "text": [
      "[[52 20]\n",
      " [24  0]]\n",
      "\n",
      "\n",
      "              precision    recall  f1-score   support\n",
      "\n",
      "           0       0.68      0.72      0.70        72\n",
      "           1       0.00      0.00      0.00        24\n",
      "\n",
      "    accuracy                           0.54        96\n",
      "   macro avg       0.34      0.36      0.35        96\n",
      "weighted avg       0.51      0.54      0.53        96\n",
      "\n"
     ]
    }
   ],
   "source": [
    "model = SVC()\n",
    "model.fit(X_train,y_train)\n",
    "predictions = model.predict(X_test)\n",
    "from sklearn.metrics import classification_report,confusion_matrix\n",
    "from sklearn.metrics import accuracy_score\n",
    "\n",
    "print(confusion_matrix(y_test,predictions))\n",
    "print('\\n')\n",
    "print(classification_report(y_test,predictions))\n",
    "\n",
    "score_test3 = accuracy_score(y_test,predictions)"
   ]
  },
  {
   "cell_type": "code",
   "execution_count": 551,
   "metadata": {},
   "outputs": [],
   "source": [
    "df4 = generate_auth_dataset(df,4, ratio=3)\n",
    "df4_test = generate_auth_dataset(df_test,4, ratio=3)"
   ]
  },
  {
   "cell_type": "code",
   "execution_count": 552,
   "metadata": {},
   "outputs": [
    {
     "data": {
      "text/plain": [
       "(176, 30)"
      ]
     },
     "execution_count": 552,
     "metadata": {},
     "output_type": "execute_result"
    }
   ],
   "source": [
    "scaler = StandardScaler()\n",
    "X_Feat, y_train = df4.iloc[:, :-1].values, df4.iloc[:, -1].values\n",
    "scaler.fit(X_Feat)\n",
    "scaled_data4 = scaler.transform(X_Feat)\n",
    "\n",
    "scaler = StandardScaler()\n",
    "X_Feat_test, y_test = df4_test.iloc[:, :-1].values, df4_test.iloc[:, -1].values\n",
    "scaler.fit(X_Feat_test)\n",
    "scaled_data_test4 = scaler.transform(X_Feat_test)\n",
    "\n",
    "pca = PCA(n_components=30)\n",
    "pca.fit(scaled_data4)\n",
    "x_pca4 = pca.transform(scaled_data4)\n",
    "x_pca4.shape\n"
   ]
  },
  {
   "cell_type": "code",
   "execution_count": 553,
   "metadata": {},
   "outputs": [
    {
     "data": {
      "text/plain": [
       "(56, 30)"
      ]
     },
     "execution_count": 553,
     "metadata": {},
     "output_type": "execute_result"
    }
   ],
   "source": [
    "pca = PCA(n_components=30)\n",
    "pca.fit(scaled_data_test4)\n",
    "x_pca_test4 = pca.transform(scaled_data_test4)\n",
    "x_pca_test4.shape"
   ]
  },
  {
   "cell_type": "code",
   "execution_count": 554,
   "metadata": {},
   "outputs": [],
   "source": [
    "X_test = x_pca_test4\n",
    "X_train = x_pca4"
   ]
  },
  {
   "cell_type": "code",
   "execution_count": 555,
   "metadata": {},
   "outputs": [
    {
     "name": "stdout",
     "output_type": "stream",
     "text": [
      "[[37  5]\n",
      " [14  0]]\n",
      "\n",
      "\n",
      "              precision    recall  f1-score   support\n",
      "\n",
      "           0       0.73      0.88      0.80        42\n",
      "           1       0.00      0.00      0.00        14\n",
      "\n",
      "    accuracy                           0.66        56\n",
      "   macro avg       0.36      0.44      0.40        56\n",
      "weighted avg       0.54      0.66      0.60        56\n",
      "\n"
     ]
    }
   ],
   "source": [
    "model = SVC()\n",
    "model.fit(X_train,y_train)\n",
    "predictions = model.predict(X_test)\n",
    "from sklearn.metrics import classification_report,confusion_matrix\n",
    "from sklearn.metrics import accuracy_score\n",
    "\n",
    "print(confusion_matrix(y_test,predictions))\n",
    "print('\\n')\n",
    "print(classification_report(y_test,predictions))\n",
    "\n",
    "score_test4 = accuracy_score(y_test,predictions)"
   ]
  },
  {
   "cell_type": "code",
   "execution_count": 556,
   "metadata": {},
   "outputs": [],
   "source": [
    "df5 = generate_auth_dataset(df,5, ratio=3)\n",
    "df5_test = generate_auth_dataset(df_test,5, ratio=3)"
   ]
  },
  {
   "cell_type": "code",
   "execution_count": 557,
   "metadata": {},
   "outputs": [
    {
     "data": {
      "text/plain": [
       "(192, 30)"
      ]
     },
     "execution_count": 557,
     "metadata": {},
     "output_type": "execute_result"
    }
   ],
   "source": [
    "scaler = StandardScaler()\n",
    "X_Feat, y_train = df5.iloc[:, :-1].values, df5.iloc[:, -1].values\n",
    "scaler.fit(X_Feat)\n",
    "scaled_data5 = scaler.transform(X_Feat)\n",
    "\n",
    "scaler = StandardScaler()\n",
    "X_Feat_test, y_test = df5_test.iloc[:, :-1].values, df5_test.iloc[:, -1].values\n",
    "scaler.fit(X_Feat_test)\n",
    "scaled_data_test5 = scaler.transform(X_Feat_test)\n",
    "\n",
    "pca = PCA(n_components=30)\n",
    "pca.fit(scaled_data5)\n",
    "x_pca5 = pca.transform(scaled_data5)\n",
    "x_pca5.shape"
   ]
  },
  {
   "cell_type": "code",
   "execution_count": 558,
   "metadata": {},
   "outputs": [
    {
     "data": {
      "text/plain": [
       "(96, 30)"
      ]
     },
     "execution_count": 558,
     "metadata": {},
     "output_type": "execute_result"
    }
   ],
   "source": [
    "pca = PCA(n_components=30)\n",
    "pca.fit(scaled_data_test5)\n",
    "x_pca_test5 = pca.transform(scaled_data_test5)\n",
    "x_pca_test5.shape"
   ]
  },
  {
   "cell_type": "code",
   "execution_count": 559,
   "metadata": {},
   "outputs": [],
   "source": [
    "X_test = x_pca_test5\n",
    "X_train = x_pca5"
   ]
  },
  {
   "cell_type": "code",
   "execution_count": 560,
   "metadata": {},
   "outputs": [
    {
     "name": "stdout",
     "output_type": "stream",
     "text": [
      "[[57 15]\n",
      " [24  0]]\n",
      "\n",
      "\n",
      "              precision    recall  f1-score   support\n",
      "\n",
      "           0       0.70      0.79      0.75        72\n",
      "           1       0.00      0.00      0.00        24\n",
      "\n",
      "    accuracy                           0.59        96\n",
      "   macro avg       0.35      0.40      0.37        96\n",
      "weighted avg       0.53      0.59      0.56        96\n",
      "\n"
     ]
    }
   ],
   "source": [
    "model = SVC()\n",
    "model.fit(X_train,y_train)\n",
    "predictions = model.predict(X_test)\n",
    "from sklearn.metrics import classification_report,confusion_matrix\n",
    "from sklearn.metrics import accuracy_score\n",
    "\n",
    "print(confusion_matrix(y_test,predictions))\n",
    "print('\\n')\n",
    "print(classification_report(y_test,predictions))\n",
    "\n",
    "score_test5 = accuracy_score(y_test,predictions)"
   ]
  },
  {
   "cell_type": "code",
   "execution_count": 561,
   "metadata": {},
   "outputs": [],
   "source": [
    "df6 = generate_auth_dataset(df,6, ratio=3)\n",
    "df6_test = generate_auth_dataset(df_test,6, ratio=3)"
   ]
  },
  {
   "cell_type": "code",
   "execution_count": 562,
   "metadata": {},
   "outputs": [
    {
     "data": {
      "text/plain": [
       "(192, 30)"
      ]
     },
     "execution_count": 562,
     "metadata": {},
     "output_type": "execute_result"
    }
   ],
   "source": [
    "scaler = StandardScaler()\n",
    "X_Feat, y_train = df6.iloc[:, :-1].values, df6.iloc[:, -1].values\n",
    "scaler.fit(X_Feat)\n",
    "scaled_data6 = scaler.transform(X_Feat)\n",
    "\n",
    "scaler = StandardScaler()\n",
    "X_Feat_test, y_test = df6_test.iloc[:, :-1].values, df6_test.iloc[:, -1].values\n",
    "scaler.fit(X_Feat_test)\n",
    "scaled_data_test6 = scaler.transform(X_Feat_test)\n",
    "\n",
    "pca = PCA(n_components=30)\n",
    "pca.fit(scaled_data6)\n",
    "x_pca6 = pca.transform(scaled_data6)\n",
    "x_pca6.shape"
   ]
  },
  {
   "cell_type": "code",
   "execution_count": 563,
   "metadata": {},
   "outputs": [
    {
     "data": {
      "text/plain": [
       "(96, 30)"
      ]
     },
     "execution_count": 563,
     "metadata": {},
     "output_type": "execute_result"
    }
   ],
   "source": [
    "pca = PCA(n_components=30)\n",
    "pca.fit(scaled_data_test6)\n",
    "x_pca_test6 = pca.transform(scaled_data_test6)\n",
    "x_pca_test6.shape"
   ]
  },
  {
   "cell_type": "code",
   "execution_count": 564,
   "metadata": {},
   "outputs": [],
   "source": [
    "X_test = x_pca_test6\n",
    "X_train = x_pca6"
   ]
  },
  {
   "cell_type": "code",
   "execution_count": 565,
   "metadata": {},
   "outputs": [
    {
     "name": "stdout",
     "output_type": "stream",
     "text": [
      "[[71  1]\n",
      " [22  2]]\n",
      "\n",
      "\n",
      "              precision    recall  f1-score   support\n",
      "\n",
      "           0       0.76      0.99      0.86        72\n",
      "           1       0.67      0.08      0.15        24\n",
      "\n",
      "    accuracy                           0.76        96\n",
      "   macro avg       0.72      0.53      0.50        96\n",
      "weighted avg       0.74      0.76      0.68        96\n",
      "\n"
     ]
    }
   ],
   "source": [
    "model = SVC()\n",
    "model.fit(X_train,y_train)\n",
    "predictions = model.predict(X_test)\n",
    "from sklearn.metrics import classification_report,confusion_matrix\n",
    "from sklearn.metrics import accuracy_score\n",
    "\n",
    "print(confusion_matrix(y_test,predictions))\n",
    "print('\\n')\n",
    "print(classification_report(y_test,predictions))\n",
    "\n",
    "score_test6 = accuracy_score(y_test,predictions)"
   ]
  },
  {
   "cell_type": "code",
   "execution_count": 566,
   "metadata": {},
   "outputs": [],
   "source": [
    "df7 = generate_auth_dataset(df,7, ratio=3)\n",
    "df7_test = generate_auth_dataset(df_test,7, ratio=3)"
   ]
  },
  {
   "cell_type": "code",
   "execution_count": 567,
   "metadata": {},
   "outputs": [
    {
     "data": {
      "text/plain": [
       "(192, 30)"
      ]
     },
     "execution_count": 567,
     "metadata": {},
     "output_type": "execute_result"
    }
   ],
   "source": [
    "scaler = StandardScaler()\n",
    "X_Feat, y_train = df7.iloc[:, :-1].values, df7.iloc[:, -1].values\n",
    "scaler.fit(X_Feat)\n",
    "scaled_data7 = scaler.transform(X_Feat)\n",
    "\n",
    "scaler = StandardScaler()\n",
    "X_Feat_test, y_test = df7_test.iloc[:, :-1].values, df7_test.iloc[:, -1].values\n",
    "scaler.fit(X_Feat_test)\n",
    "scaled_data_test7 = scaler.transform(X_Feat_test)\n",
    "\n",
    "pca = PCA(n_components=30)\n",
    "pca.fit(scaled_data7)\n",
    "x_pca7 = pca.transform(scaled_data7)\n",
    "x_pca7.shape"
   ]
  },
  {
   "cell_type": "code",
   "execution_count": 568,
   "metadata": {},
   "outputs": [
    {
     "data": {
      "text/plain": [
       "(96, 30)"
      ]
     },
     "execution_count": 568,
     "metadata": {},
     "output_type": "execute_result"
    }
   ],
   "source": [
    "pca = PCA(n_components=30)\n",
    "pca.fit(scaled_data_test7)\n",
    "x_pca_test7 = pca.transform(scaled_data_test7)\n",
    "x_pca_test7.shape"
   ]
  },
  {
   "cell_type": "code",
   "execution_count": 569,
   "metadata": {},
   "outputs": [],
   "source": [
    "X_test = x_pca_test7\n",
    "X_train = x_pca7"
   ]
  },
  {
   "cell_type": "code",
   "execution_count": 570,
   "metadata": {},
   "outputs": [
    {
     "name": "stdout",
     "output_type": "stream",
     "text": [
      "[[72  0]\n",
      " [23  1]]\n",
      "\n",
      "\n",
      "              precision    recall  f1-score   support\n",
      "\n",
      "           0       0.76      1.00      0.86        72\n",
      "           1       1.00      0.04      0.08        24\n",
      "\n",
      "    accuracy                           0.76        96\n",
      "   macro avg       0.88      0.52      0.47        96\n",
      "weighted avg       0.82      0.76      0.67        96\n",
      "\n"
     ]
    }
   ],
   "source": [
    "model = SVC()\n",
    "model.fit(X_train,y_train)\n",
    "predictions = model.predict(X_test)\n",
    "from sklearn.metrics import classification_report,confusion_matrix\n",
    "from sklearn.metrics import accuracy_score\n",
    "\n",
    "print(confusion_matrix(y_test,predictions))\n",
    "print('\\n')\n",
    "print(classification_report(y_test,predictions))\n",
    "\n",
    "score_test7 = accuracy_score(y_test,predictions)"
   ]
  },
  {
   "cell_type": "code",
   "execution_count": 571,
   "metadata": {},
   "outputs": [],
   "source": [
    "df8 = generate_auth_dataset(df,8, ratio=3)\n",
    "df8_test = generate_auth_dataset(df_test,8, ratio=3)"
   ]
  },
  {
   "cell_type": "code",
   "execution_count": 572,
   "metadata": {},
   "outputs": [
    {
     "data": {
      "text/plain": [
       "(192, 30)"
      ]
     },
     "execution_count": 572,
     "metadata": {},
     "output_type": "execute_result"
    }
   ],
   "source": [
    "scaler = StandardScaler()\n",
    "X_Feat, y_train = df8.iloc[:, :-1].values, df8.iloc[:, -1].values\n",
    "scaler.fit(X_Feat)\n",
    "scaled_data8 = scaler.transform(X_Feat)\n",
    "\n",
    "scaler = StandardScaler()\n",
    "X_Feat_test, y_test = df8_test.iloc[:, :-1].values, df8_test.iloc[:, -1].values\n",
    "scaler.fit(X_Feat_test)\n",
    "scaled_data_test8 = scaler.transform(X_Feat_test)\n",
    "\n",
    "pca = PCA(n_components=30)\n",
    "pca.fit(scaled_data8)\n",
    "x_pca8 = pca.transform(scaled_data8)\n",
    "x_pca8.shape"
   ]
  },
  {
   "cell_type": "code",
   "execution_count": 573,
   "metadata": {},
   "outputs": [
    {
     "data": {
      "text/plain": [
       "(96, 30)"
      ]
     },
     "execution_count": 573,
     "metadata": {},
     "output_type": "execute_result"
    }
   ],
   "source": [
    "pca = PCA(n_components=30)\n",
    "pca.fit(scaled_data_test8)\n",
    "x_pca_test8 = pca.transform(scaled_data_test8)\n",
    "x_pca_test8.shape"
   ]
  },
  {
   "cell_type": "code",
   "execution_count": 574,
   "metadata": {},
   "outputs": [],
   "source": [
    "X_test = x_pca_test8\n",
    "X_train = x_pca8"
   ]
  },
  {
   "cell_type": "code",
   "execution_count": 575,
   "metadata": {},
   "outputs": [
    {
     "name": "stdout",
     "output_type": "stream",
     "text": [
      "[[58 14]\n",
      " [22  2]]\n",
      "\n",
      "\n",
      "              precision    recall  f1-score   support\n",
      "\n",
      "           0       0.72      0.81      0.76        72\n",
      "           1       0.12      0.08      0.10        24\n",
      "\n",
      "    accuracy                           0.62        96\n",
      "   macro avg       0.42      0.44      0.43        96\n",
      "weighted avg       0.57      0.62      0.60        96\n",
      "\n"
     ]
    }
   ],
   "source": [
    "model = SVC()\n",
    "model.fit(X_train,y_train)\n",
    "predictions = model.predict(X_test)\n",
    "from sklearn.metrics import classification_report,confusion_matrix\n",
    "from sklearn.metrics import accuracy_score\n",
    "\n",
    "print(confusion_matrix(y_test,predictions))\n",
    "print('\\n')\n",
    "print(classification_report(y_test,predictions))\n",
    "\n",
    "score_test8 = accuracy_score(y_test,predictions)"
   ]
  },
  {
   "cell_type": "code",
   "execution_count": 576,
   "metadata": {},
   "outputs": [
    {
     "name": "stdout",
     "output_type": "stream",
     "text": [
      "[[66  6]\n",
      " [12 12]]\n",
      "\n",
      "\n",
      "              precision    recall  f1-score   support\n",
      "\n",
      "           0       0.85      0.92      0.88        72\n",
      "           1       0.67      0.50      0.57        24\n",
      "\n",
      "    accuracy                           0.81        96\n",
      "   macro avg       0.76      0.71      0.73        96\n",
      "weighted avg       0.80      0.81      0.80        96\n",
      "\n"
     ]
    }
   ],
   "source": [
    "df9 = generate_auth_dataset(df,9, ratio=3)\n",
    "df9_test = generate_auth_dataset(df_test,9, ratio=3)\n",
    "\n",
    "scaler = StandardScaler()\n",
    "X_Feat, y_train = df9.iloc[:, :-1].values, df9.iloc[:, -1].values\n",
    "scaler.fit(X_Feat)\n",
    "scaled_data9 = scaler.transform(X_Feat)\n",
    "\n",
    "scaler = StandardScaler()\n",
    "X_Feat_test, y_test = df9_test.iloc[:, :-1].values, df9_test.iloc[:, -1].values\n",
    "scaler.fit(X_Feat_test)\n",
    "scaled_data_test9 = scaler.transform(X_Feat_test)\n",
    "\n",
    "pca = PCA(n_components=30)\n",
    "pca.fit(scaled_data9)\n",
    "x_pca9 = pca.transform(scaled_data9)\n",
    "\n",
    "pca = PCA(n_components=30)\n",
    "pca.fit(scaled_data_test9)\n",
    "x_pca_test9 = pca.transform(scaled_data_test9)\n",
    "\n",
    "X_test = x_pca_test9\n",
    "X_train = x_pca9\n",
    "\n",
    "model = SVC()\n",
    "model.fit(X_train,y_train)\n",
    "predictions = model.predict(X_test)\n",
    "from sklearn.metrics import classification_report,confusion_matrix\n",
    "from sklearn.metrics import accuracy_score\n",
    "\n",
    "print(confusion_matrix(y_test,predictions))\n",
    "print('\\n')\n",
    "print(classification_report(y_test,predictions))\n",
    "\n",
    "score_test9 = accuracy_score(y_test,predictions)"
   ]
  },
  {
   "cell_type": "code",
   "execution_count": 577,
   "metadata": {},
   "outputs": [
    {
     "name": "stdout",
     "output_type": "stream",
     "text": [
      "[[63  3]\n",
      " [21  1]]\n",
      "\n",
      "\n",
      "              precision    recall  f1-score   support\n",
      "\n",
      "           0       0.75      0.95      0.84        66\n",
      "           1       0.25      0.05      0.08        22\n",
      "\n",
      "    accuracy                           0.73        88\n",
      "   macro avg       0.50      0.50      0.46        88\n",
      "weighted avg       0.62      0.73      0.65        88\n",
      "\n"
     ]
    }
   ],
   "source": [
    "df10 = generate_auth_dataset(df,10, ratio=3)\n",
    "df10_test = generate_auth_dataset(df_test,10, ratio=3)\n",
    "\n",
    "scaler = StandardScaler()\n",
    "X_Feat, y_train = df10.iloc[:, :-1].values, df10.iloc[:, -1].values\n",
    "scaler.fit(X_Feat)\n",
    "scaled_data10 = scaler.transform(X_Feat)\n",
    "\n",
    "scaler = StandardScaler()\n",
    "X_Feat_test, y_test = df10_test.iloc[:, :-1].values, df10_test.iloc[:, -1].values\n",
    "scaler.fit(X_Feat_test)\n",
    "scaled_data_test10 = scaler.transform(X_Feat_test)\n",
    "\n",
    "pca = PCA(n_components=30)\n",
    "pca.fit(scaled_data10)\n",
    "x_pca10 = pca.transform(scaled_data10)\n",
    "\n",
    "pca = PCA(n_components=30)\n",
    "pca.fit(scaled_data_test10)\n",
    "x_pca_test10 = pca.transform(scaled_data_test10)\n",
    "\n",
    "X_test = x_pca_test10\n",
    "X_train = x_pca10\n",
    "\n",
    "model = SVC()\n",
    "model.fit(X_train,y_train)\n",
    "predictions = model.predict(X_test)\n",
    "from sklearn.metrics import classification_report,confusion_matrix\n",
    "from sklearn.metrics import accuracy_score\n",
    "\n",
    "print(confusion_matrix(y_test,predictions))\n",
    "print('\\n')\n",
    "print(classification_report(y_test,predictions))\n",
    "\n",
    "score_test10 = accuracy_score(y_test,predictions)"
   ]
  },
  {
   "cell_type": "code",
   "execution_count": 578,
   "metadata": {},
   "outputs": [
    {
     "name": "stdout",
     "output_type": "stream",
     "text": [
      "[[66  6]\n",
      " [16  8]]\n",
      "\n",
      "\n",
      "              precision    recall  f1-score   support\n",
      "\n",
      "           0       0.80      0.92      0.86        72\n",
      "           1       0.57      0.33      0.42        24\n",
      "\n",
      "    accuracy                           0.77        96\n",
      "   macro avg       0.69      0.62      0.64        96\n",
      "weighted avg       0.75      0.77      0.75        96\n",
      "\n"
     ]
    }
   ],
   "source": [
    "df11 = generate_auth_dataset(df,11, ratio=3)\n",
    "df11_test = generate_auth_dataset(df_test,11, ratio=3)\n",
    "\n",
    "scaler = StandardScaler()\n",
    "X_Feat, y_train = df11.iloc[:, :-1].values, df11.iloc[:, -1].values\n",
    "scaler.fit(X_Feat)\n",
    "scaled_data11 = scaler.transform(X_Feat)\n",
    "\n",
    "scaler = StandardScaler()\n",
    "X_Feat_test, y_test = df11_test.iloc[:, :-1].values, df11_test.iloc[:, -1].values\n",
    "scaler.fit(X_Feat_test)\n",
    "scaled_data_test11 = scaler.transform(X_Feat_test)\n",
    "\n",
    "pca = PCA(n_components=30)\n",
    "pca.fit(scaled_data11)\n",
    "x_pca11 = pca.transform(scaled_data11)\n",
    "\n",
    "pca = PCA(n_components=30)\n",
    "pca.fit(scaled_data_test11)\n",
    "x_pca_test11 = pca.transform(scaled_data_test11)\n",
    "\n",
    "X_test = x_pca_test11\n",
    "X_train = x_pca11\n",
    "\n",
    "model = SVC()\n",
    "model.fit(X_train,y_train)\n",
    "predictions = model.predict(X_test)\n",
    "from sklearn.metrics import classification_report,confusion_matrix\n",
    "from sklearn.metrics import accuracy_score\n",
    "\n",
    "print(confusion_matrix(y_test,predictions))\n",
    "print('\\n')\n",
    "print(classification_report(y_test,predictions))\n",
    "\n",
    "score_test11 = accuracy_score(y_test,predictions)"
   ]
  },
  {
   "cell_type": "code",
   "execution_count": 579,
   "metadata": {},
   "outputs": [
    {
     "name": "stdout",
     "output_type": "stream",
     "text": [
      "[[71  1]\n",
      " [18  6]]\n",
      "\n",
      "\n",
      "              precision    recall  f1-score   support\n",
      "\n",
      "           0       0.80      0.99      0.88        72\n",
      "           1       0.86      0.25      0.39        24\n",
      "\n",
      "    accuracy                           0.80        96\n",
      "   macro avg       0.83      0.62      0.63        96\n",
      "weighted avg       0.81      0.80      0.76        96\n",
      "\n"
     ]
    }
   ],
   "source": [
    "df12 = generate_auth_dataset(df,12, ratio=3)\n",
    "df12_test = generate_auth_dataset(df_test,12, ratio=3)\n",
    "\n",
    "scaler = StandardScaler()\n",
    "X_Feat, y_train = df12.iloc[:, :-1].values, df12.iloc[:, -1].values\n",
    "scaler.fit(X_Feat)\n",
    "scaled_data12 = scaler.transform(X_Feat)\n",
    "\n",
    "scaler = StandardScaler()\n",
    "X_Feat_test, y_test = df12_test.iloc[:, :-1].values, df12_test.iloc[:, -1].values\n",
    "scaler.fit(X_Feat_test)\n",
    "scaled_data_test12 = scaler.transform(X_Feat_test)\n",
    "\n",
    "pca = PCA(n_components=30)\n",
    "pca.fit(scaled_data12)\n",
    "x_pca12 = pca.transform(scaled_data12)\n",
    "\n",
    "pca = PCA(n_components=30)\n",
    "pca.fit(scaled_data_test12)\n",
    "x_pca_test12 = pca.transform(scaled_data_test12)\n",
    "\n",
    "X_test = x_pca_test12\n",
    "X_train = x_pca12\n",
    "\n",
    "model = SVC()\n",
    "model.fit(X_train,y_train)\n",
    "predictions = model.predict(X_test)\n",
    "from sklearn.metrics import classification_report,confusion_matrix\n",
    "from sklearn.metrics import accuracy_score\n",
    "\n",
    "print(confusion_matrix(y_test,predictions))\n",
    "print('\\n')\n",
    "print(classification_report(y_test,predictions))\n",
    "\n",
    "score_test12 = accuracy_score(y_test,predictions)"
   ]
  },
  {
   "cell_type": "code",
   "execution_count": 580,
   "metadata": {},
   "outputs": [
    {
     "name": "stdout",
     "output_type": "stream",
     "text": [
      "[[68  4]\n",
      " [22  2]]\n",
      "\n",
      "\n",
      "              precision    recall  f1-score   support\n",
      "\n",
      "           0       0.76      0.94      0.84        72\n",
      "           1       0.33      0.08      0.13        24\n",
      "\n",
      "    accuracy                           0.73        96\n",
      "   macro avg       0.54      0.51      0.49        96\n",
      "weighted avg       0.65      0.73      0.66        96\n",
      "\n"
     ]
    }
   ],
   "source": [
    "df13 = generate_auth_dataset(df,13, ratio=3)\n",
    "df13_test = generate_auth_dataset(df_test,13, ratio=3)\n",
    "\n",
    "scaler = StandardScaler()\n",
    "X_Feat, y_train = df13.iloc[:, :-1].values, df13.iloc[:, -1].values\n",
    "scaler.fit(X_Feat)\n",
    "scaled_data13 = scaler.transform(X_Feat)\n",
    "\n",
    "scaler = StandardScaler()\n",
    "X_Feat_test, y_test = df13_test.iloc[:, :-1].values, df13_test.iloc[:, -1].values\n",
    "scaler.fit(X_Feat_test)\n",
    "scaled_data_test13 = scaler.transform(X_Feat_test)\n",
    "\n",
    "pca = PCA(n_components=30)\n",
    "pca.fit(scaled_data13)\n",
    "x_pca13 = pca.transform(scaled_data13)\n",
    "\n",
    "pca = PCA(n_components=30)\n",
    "pca.fit(scaled_data_test13)\n",
    "x_pca_test13 = pca.transform(scaled_data_test13)\n",
    "\n",
    "X_test = x_pca_test13\n",
    "X_train = x_pca13\n",
    "\n",
    "model = SVC()\n",
    "model.fit(X_train,y_train)\n",
    "predictions = model.predict(X_test)\n",
    "from sklearn.metrics import classification_report,confusion_matrix\n",
    "from sklearn.metrics import accuracy_score\n",
    "\n",
    "print(confusion_matrix(y_test,predictions))\n",
    "print('\\n')\n",
    "print(classification_report(y_test,predictions))\n",
    "\n",
    "score_test13 = accuracy_score(y_test,predictions)"
   ]
  },
  {
   "cell_type": "code",
   "execution_count": 581,
   "metadata": {},
   "outputs": [
    {
     "name": "stdout",
     "output_type": "stream",
     "text": [
      "[[70  2]\n",
      " [24  0]]\n",
      "\n",
      "\n",
      "              precision    recall  f1-score   support\n",
      "\n",
      "           0       0.74      0.97      0.84        72\n",
      "           1       0.00      0.00      0.00        24\n",
      "\n",
      "    accuracy                           0.73        96\n",
      "   macro avg       0.37      0.49      0.42        96\n",
      "weighted avg       0.56      0.73      0.63        96\n",
      "\n"
     ]
    }
   ],
   "source": [
    "df14 = generate_auth_dataset(df,14, ratio=3)\n",
    "df14_test = generate_auth_dataset(df_test,14, ratio=3)\n",
    "\n",
    "scaler = StandardScaler()\n",
    "X_Feat, y_train = df14.iloc[:, :-1].values, df14.iloc[:, -1].values\n",
    "scaler.fit(X_Feat)\n",
    "scaled_data14 = scaler.transform(X_Feat)\n",
    "\n",
    "scaler = StandardScaler()\n",
    "X_Feat_test, y_test = df14_test.iloc[:, :-1].values, df14_test.iloc[:, -1].values\n",
    "scaler.fit(X_Feat_test)\n",
    "scaled_data_test14 = scaler.transform(X_Feat_test)\n",
    "\n",
    "pca = PCA(n_components=30)\n",
    "pca.fit(scaled_data14)\n",
    "x_pca14 = pca.transform(scaled_data14)\n",
    "\n",
    "pca = PCA(n_components=30)\n",
    "pca.fit(scaled_data_test14)\n",
    "x_pca_test14 = pca.transform(scaled_data_test14)\n",
    "\n",
    "X_test = x_pca_test14\n",
    "X_train = x_pca14\n",
    "\n",
    "model = SVC()\n",
    "model.fit(X_train,y_train)\n",
    "predictions = model.predict(X_test)\n",
    "from sklearn.metrics import classification_report,confusion_matrix\n",
    "from sklearn.metrics import accuracy_score\n",
    "\n",
    "print(confusion_matrix(y_test,predictions))\n",
    "print('\\n')\n",
    "print(classification_report(y_test,predictions))\n",
    "\n",
    "score_test14 = accuracy_score(y_test,predictions)"
   ]
  },
  {
   "cell_type": "code",
   "execution_count": 582,
   "metadata": {},
   "outputs": [
    {
     "name": "stdout",
     "output_type": "stream",
     "text": [
      "[[67  5]\n",
      " [17  7]]\n",
      "\n",
      "\n",
      "              precision    recall  f1-score   support\n",
      "\n",
      "           0       0.80      0.93      0.86        72\n",
      "           1       0.58      0.29      0.39        24\n",
      "\n",
      "    accuracy                           0.77        96\n",
      "   macro avg       0.69      0.61      0.62        96\n",
      "weighted avg       0.74      0.77      0.74        96\n",
      "\n"
     ]
    }
   ],
   "source": [
    "df15 = generate_auth_dataset(df,15, ratio=3)\n",
    "df15_test = generate_auth_dataset(df_test,15, ratio=3)\n",
    "\n",
    "scaler = StandardScaler()\n",
    "X_Feat, y_train = df15.iloc[:, :-1].values, df15.iloc[:, -1].values\n",
    "scaler.fit(X_Feat)\n",
    "scaled_data15 = scaler.transform(X_Feat)\n",
    "\n",
    "scaler = StandardScaler()\n",
    "X_Feat_test, y_test = df15_test.iloc[:, :-1].values, df15_test.iloc[:, -1].values\n",
    "scaler.fit(X_Feat_test)\n",
    "scaled_data_test15 = scaler.transform(X_Feat_test)\n",
    "\n",
    "pca = PCA(n_components=30)\n",
    "pca.fit(scaled_data15)\n",
    "x_pca15 = pca.transform(scaled_data15)\n",
    "\n",
    "pca = PCA(n_components=30)\n",
    "pca.fit(scaled_data_test15)\n",
    "x_pca_test15 = pca.transform(scaled_data_test15)\n",
    "\n",
    "X_test = x_pca_test15\n",
    "X_train = x_pca15\n",
    "\n",
    "model = SVC()\n",
    "model.fit(X_train,y_train)\n",
    "predictions = model.predict(X_test)\n",
    "from sklearn.metrics import classification_report,confusion_matrix\n",
    "from sklearn.metrics import accuracy_score\n",
    "\n",
    "print(confusion_matrix(y_test,predictions))\n",
    "print('\\n')\n",
    "print(classification_report(y_test,predictions))\n",
    "\n",
    "score_test15 = accuracy_score(y_test,predictions)"
   ]
  },
  {
   "cell_type": "code",
   "execution_count": 583,
   "metadata": {},
   "outputs": [
    {
     "name": "stdout",
     "output_type": "stream",
     "text": [
      "[[66  6]\n",
      " [19  5]]\n",
      "\n",
      "\n",
      "              precision    recall  f1-score   support\n",
      "\n",
      "           0       0.78      0.92      0.84        72\n",
      "           1       0.45      0.21      0.29        24\n",
      "\n",
      "    accuracy                           0.74        96\n",
      "   macro avg       0.62      0.56      0.56        96\n",
      "weighted avg       0.70      0.74      0.70        96\n",
      "\n"
     ]
    }
   ],
   "source": [
    "df16 = generate_auth_dataset(df,16, ratio=3)\n",
    "df16_test = generate_auth_dataset(df_test,16, ratio=3)\n",
    "\n",
    "scaler = StandardScaler()\n",
    "X_Feat, y_train = df16.iloc[:, :-1].values, df16.iloc[:, -1].values\n",
    "scaler.fit(X_Feat)\n",
    "scaled_data16 = scaler.transform(X_Feat)\n",
    "\n",
    "scaler = StandardScaler()\n",
    "X_Feat_test, y_test = df16_test.iloc[:, :-1].values, df16_test.iloc[:, -1].values\n",
    "scaler.fit(X_Feat_test)\n",
    "scaled_data_test16 = scaler.transform(X_Feat_test)\n",
    "\n",
    "pca = PCA(n_components=30)\n",
    "pca.fit(scaled_data16)\n",
    "x_pca16 = pca.transform(scaled_data16)\n",
    "\n",
    "pca = PCA(n_components=30)\n",
    "pca.fit(scaled_data_test16)\n",
    "x_pca_test16 = pca.transform(scaled_data_test16)\n",
    "\n",
    "X_test = x_pca_test16\n",
    "X_train = x_pca16\n",
    "\n",
    "model = SVC()\n",
    "model.fit(X_train,y_train)\n",
    "predictions = model.predict(X_test)\n",
    "from sklearn.metrics import classification_report,confusion_matrix\n",
    "from sklearn.metrics import accuracy_score\n",
    "\n",
    "print(confusion_matrix(y_test,predictions))\n",
    "print('\\n')\n",
    "print(classification_report(y_test,predictions))\n",
    "\n",
    "score_test16 = accuracy_score(y_test,predictions)"
   ]
  },
  {
   "cell_type": "code",
   "execution_count": 584,
   "metadata": {},
   "outputs": [
    {
     "name": "stdout",
     "output_type": "stream",
     "text": [
      "[[55 17]\n",
      " [24  0]]\n",
      "\n",
      "\n",
      "              precision    recall  f1-score   support\n",
      "\n",
      "           0       0.70      0.76      0.73        72\n",
      "           1       0.00      0.00      0.00        24\n",
      "\n",
      "    accuracy                           0.57        96\n",
      "   macro avg       0.35      0.38      0.36        96\n",
      "weighted avg       0.52      0.57      0.55        96\n",
      "\n"
     ]
    }
   ],
   "source": [
    "df17 = generate_auth_dataset(df,17, ratio=3)\n",
    "df17_test = generate_auth_dataset(df_test,17, ratio=3)\n",
    "\n",
    "scaler = StandardScaler()\n",
    "X_Feat, y_train = df17.iloc[:, :-1].values, df17.iloc[:, -1].values\n",
    "scaler.fit(X_Feat)\n",
    "scaled_data17 = scaler.transform(X_Feat)\n",
    "\n",
    "scaler = StandardScaler()\n",
    "X_Feat_test, y_test = df17_test.iloc[:, :-1].values, df17_test.iloc[:, -1].values\n",
    "scaler.fit(X_Feat_test)\n",
    "scaled_data_test17 = scaler.transform(X_Feat_test)\n",
    "\n",
    "pca = PCA(n_components=30)\n",
    "pca.fit(scaled_data17)\n",
    "x_pca17 = pca.transform(scaled_data17)\n",
    "\n",
    "pca = PCA(n_components=30)\n",
    "pca.fit(scaled_data_test17)\n",
    "x_pca_test17 = pca.transform(scaled_data_test17)\n",
    "\n",
    "X_test = x_pca_test17\n",
    "X_train = x_pca17\n",
    "\n",
    "model = SVC()\n",
    "model.fit(X_train,y_train)\n",
    "predictions = model.predict(X_test)\n",
    "from sklearn.metrics import classification_report,confusion_matrix\n",
    "from sklearn.metrics import accuracy_score\n",
    "\n",
    "print(confusion_matrix(y_test,predictions))\n",
    "print('\\n')\n",
    "print(classification_report(y_test,predictions))\n",
    "\n",
    "score_test17 = accuracy_score(y_test,predictions)"
   ]
  },
  {
   "cell_type": "code",
   "execution_count": 585,
   "metadata": {},
   "outputs": [
    {
     "name": "stdout",
     "output_type": "stream",
     "text": [
      "[[52 20]\n",
      " [24  0]]\n",
      "\n",
      "\n",
      "              precision    recall  f1-score   support\n",
      "\n",
      "           0       0.68      0.72      0.70        72\n",
      "           1       0.00      0.00      0.00        24\n",
      "\n",
      "    accuracy                           0.54        96\n",
      "   macro avg       0.34      0.36      0.35        96\n",
      "weighted avg       0.51      0.54      0.53        96\n",
      "\n"
     ]
    }
   ],
   "source": [
    "df18 = generate_auth_dataset(df,18, ratio=3)\n",
    "df18_test = generate_auth_dataset(df_test,18, ratio=3)\n",
    "\n",
    "scaler = StandardScaler()\n",
    "X_Feat, y_train = df18.iloc[:, :-1].values, df18.iloc[:, -1].values\n",
    "scaler.fit(X_Feat)\n",
    "scaled_data18 = scaler.transform(X_Feat)\n",
    "\n",
    "scaler = StandardScaler()\n",
    "X_Feat_test, y_test = df18_test.iloc[:, :-1].values, df18_test.iloc[:, -1].values\n",
    "scaler.fit(X_Feat_test)\n",
    "scaled_data_test18 = scaler.transform(X_Feat_test)\n",
    "\n",
    "pca = PCA(n_components=30)\n",
    "pca.fit(scaled_data18)\n",
    "x_pca18 = pca.transform(scaled_data18)\n",
    "\n",
    "pca = PCA(n_components=30)\n",
    "pca.fit(scaled_data_test18)\n",
    "x_pca_test18 = pca.transform(scaled_data_test18)\n",
    "\n",
    "X_test = x_pca_test18\n",
    "X_train = x_pca18\n",
    "\n",
    "model = SVC()\n",
    "model.fit(X_train,y_train)\n",
    "predictions = model.predict(X_test)\n",
    "from sklearn.metrics import classification_report,confusion_matrix\n",
    "from sklearn.metrics import accuracy_score\n",
    "\n",
    "print(confusion_matrix(y_test,predictions))\n",
    "print('\\n')\n",
    "print(classification_report(y_test,predictions))\n",
    "\n",
    "score_test18 = accuracy_score(y_test,predictions)"
   ]
  },
  {
   "cell_type": "code",
   "execution_count": 586,
   "metadata": {},
   "outputs": [
    {
     "name": "stdout",
     "output_type": "stream",
     "text": [
      "[[67  5]\n",
      " [ 0 24]]\n",
      "\n",
      "\n",
      "              precision    recall  f1-score   support\n",
      "\n",
      "           0       1.00      0.93      0.96        72\n",
      "           1       0.83      1.00      0.91        24\n",
      "\n",
      "    accuracy                           0.95        96\n",
      "   macro avg       0.91      0.97      0.93        96\n",
      "weighted avg       0.96      0.95      0.95        96\n",
      "\n"
     ]
    }
   ],
   "source": [
    "df19 = generate_auth_dataset(df,19, ratio=3)\n",
    "df19_test = generate_auth_dataset(df_test,19, ratio=3)\n",
    "\n",
    "scaler = StandardScaler()\n",
    "X_Feat, y_train = df19.iloc[:, :-1].values, df19.iloc[:, -1].values\n",
    "scaler.fit(X_Feat)\n",
    "scaled_data19 = scaler.transform(X_Feat)\n",
    "\n",
    "scaler = StandardScaler()\n",
    "X_Feat_test, y_test = df19_test.iloc[:, :-1].values, df19_test.iloc[:, -1].values\n",
    "scaler.fit(X_Feat_test)\n",
    "scaled_data_test19 = scaler.transform(X_Feat_test)\n",
    "\n",
    "pca = PCA(n_components=30)\n",
    "pca.fit(scaled_data19)\n",
    "x_pca19 = pca.transform(scaled_data19)\n",
    "\n",
    "pca = PCA(n_components=30)\n",
    "pca.fit(scaled_data_test19)\n",
    "x_pca_test19 = pca.transform(scaled_data_test19)\n",
    "\n",
    "X_test = x_pca_test19\n",
    "X_train = x_pca19\n",
    "\n",
    "model = SVC()\n",
    "model.fit(X_train,y_train)\n",
    "predictions = model.predict(X_test)\n",
    "from sklearn.metrics import classification_report,confusion_matrix\n",
    "from sklearn.metrics import accuracy_score\n",
    "\n",
    "print(confusion_matrix(y_test,predictions))\n",
    "print('\\n')\n",
    "print(classification_report(y_test,predictions))\n",
    "\n",
    "score_test19 = accuracy_score(y_test,predictions)"
   ]
  },
  {
   "cell_type": "code",
   "execution_count": 587,
   "metadata": {},
   "outputs": [
    {
     "name": "stdout",
     "output_type": "stream",
     "text": [
      "[[55  2]\n",
      " [19  0]]\n",
      "\n",
      "\n",
      "              precision    recall  f1-score   support\n",
      "\n",
      "           0       0.74      0.96      0.84        57\n",
      "           1       0.00      0.00      0.00        19\n",
      "\n",
      "    accuracy                           0.72        76\n",
      "   macro avg       0.37      0.48      0.42        76\n",
      "weighted avg       0.56      0.72      0.63        76\n",
      "\n"
     ]
    }
   ],
   "source": [
    "df20 = generate_auth_dataset(df,20, ratio=3)\n",
    "df20_test = generate_auth_dataset(df_test,20, ratio=3)\n",
    "\n",
    "scaler = StandardScaler()\n",
    "X_Feat, y_train = df20.iloc[:, :-1].values, df20.iloc[:, -1].values\n",
    "scaler.fit(X_Feat)\n",
    "scaled_data20 = scaler.transform(X_Feat)\n",
    "\n",
    "scaler = StandardScaler()\n",
    "X_Feat_test, y_test = df20_test.iloc[:, :-1].values, df20_test.iloc[:, -1].values\n",
    "scaler.fit(X_Feat_test)\n",
    "scaled_data_test20 = scaler.transform(X_Feat_test)\n",
    "\n",
    "pca = PCA(n_components=30)\n",
    "pca.fit(scaled_data20)\n",
    "x_pca20 = pca.transform(scaled_data20)\n",
    "\n",
    "pca = PCA(n_components=30)\n",
    "pca.fit(scaled_data_test20)\n",
    "x_pca_test20 = pca.transform(scaled_data_test20)\n",
    "\n",
    "X_test = x_pca_test20\n",
    "X_train = x_pca20\n",
    "\n",
    "model = SVC()\n",
    "model.fit(X_train,y_train)\n",
    "predictions = model.predict(X_test)\n",
    "from sklearn.metrics import classification_report,confusion_matrix\n",
    "from sklearn.metrics import accuracy_score\n",
    "\n",
    "print(confusion_matrix(y_test,predictions))\n",
    "print('\\n')\n",
    "print(classification_report(y_test,predictions))\n",
    "\n",
    "score_test20 = accuracy_score(y_test,predictions)"
   ]
  },
  {
   "cell_type": "code",
   "execution_count": 588,
   "metadata": {},
   "outputs": [
    {
     "name": "stdout",
     "output_type": "stream",
     "text": [
      "[[72  0]\n",
      " [24  0]]\n",
      "\n",
      "\n",
      "              precision    recall  f1-score   support\n",
      "\n",
      "           0       0.75      1.00      0.86        72\n",
      "           1       0.00      0.00      0.00        24\n",
      "\n",
      "    accuracy                           0.75        96\n",
      "   macro avg       0.38      0.50      0.43        96\n",
      "weighted avg       0.56      0.75      0.64        96\n",
      "\n"
     ]
    }
   ],
   "source": [
    "df21 = generate_auth_dataset(df,21, ratio=3)\n",
    "df21_test = generate_auth_dataset(df_test,21, ratio=3)\n",
    "\n",
    "scaler = StandardScaler()\n",
    "X_Feat, y_train = df21.iloc[:, :-1].values, df21.iloc[:, -1].values\n",
    "scaler.fit(X_Feat)\n",
    "scaled_data21 = scaler.transform(X_Feat)\n",
    "\n",
    "scaler = StandardScaler()\n",
    "X_Feat_test, y_test = df21_test.iloc[:, :-1].values, df21_test.iloc[:, -1].values\n",
    "scaler.fit(X_Feat_test)\n",
    "scaled_data_test21 = scaler.transform(X_Feat_test)\n",
    "\n",
    "pca = PCA(n_components=30)\n",
    "pca.fit(scaled_data21)\n",
    "x_pca21 = pca.transform(scaled_data21)\n",
    "\n",
    "pca = PCA(n_components=30)\n",
    "pca.fit(scaled_data_test21)\n",
    "x_pca_test21 = pca.transform(scaled_data_test21)\n",
    "\n",
    "X_test = x_pca_test21\n",
    "X_train = x_pca21\n",
    "\n",
    "model = SVC()\n",
    "model.fit(X_train,y_train)\n",
    "predictions = model.predict(X_test)\n",
    "from sklearn.metrics import classification_report,confusion_matrix\n",
    "from sklearn.metrics import accuracy_score\n",
    "\n",
    "print(confusion_matrix(y_test,predictions))\n",
    "print('\\n')\n",
    "print(classification_report(y_test,predictions))\n",
    "\n",
    "score_test21 = accuracy_score(y_test,predictions)"
   ]
  },
  {
   "cell_type": "code",
   "execution_count": 590,
   "metadata": {},
   "outputs": [
    {
     "data": {
      "text/html": [
       "<div>\n",
       "<style scoped>\n",
       "    .dataframe tbody tr th:only-of-type {\n",
       "        vertical-align: middle;\n",
       "    }\n",
       "\n",
       "    .dataframe tbody tr th {\n",
       "        vertical-align: top;\n",
       "    }\n",
       "\n",
       "    .dataframe thead th {\n",
       "        text-align: right;\n",
       "    }\n",
       "</style>\n",
       "<table border=\"1\" class=\"dataframe\">\n",
       "  <thead>\n",
       "    <tr style=\"text-align: right;\">\n",
       "      <th></th>\n",
       "      <th>Score Name</th>\n",
       "      <th>Scores</th>\n",
       "    </tr>\n",
       "  </thead>\n",
       "  <tbody>\n",
       "    <tr>\n",
       "      <th>0</th>\n",
       "      <td>Subject 1</td>\n",
       "      <td>75.000000</td>\n",
       "    </tr>\n",
       "    <tr>\n",
       "      <th>1</th>\n",
       "      <td>Subject 2</td>\n",
       "      <td>72.916667</td>\n",
       "    </tr>\n",
       "    <tr>\n",
       "      <th>2</th>\n",
       "      <td>Subject 3</td>\n",
       "      <td>54.166667</td>\n",
       "    </tr>\n",
       "    <tr>\n",
       "      <th>3</th>\n",
       "      <td>Subject 4</td>\n",
       "      <td>66.071429</td>\n",
       "    </tr>\n",
       "    <tr>\n",
       "      <th>4</th>\n",
       "      <td>Subject 5</td>\n",
       "      <td>59.375000</td>\n",
       "    </tr>\n",
       "    <tr>\n",
       "      <th>5</th>\n",
       "      <td>Subject 6</td>\n",
       "      <td>76.041667</td>\n",
       "    </tr>\n",
       "    <tr>\n",
       "      <th>6</th>\n",
       "      <td>Subject 7</td>\n",
       "      <td>76.041667</td>\n",
       "    </tr>\n",
       "    <tr>\n",
       "      <th>7</th>\n",
       "      <td>Subject 8</td>\n",
       "      <td>62.500000</td>\n",
       "    </tr>\n",
       "    <tr>\n",
       "      <th>8</th>\n",
       "      <td>Subject 9</td>\n",
       "      <td>81.250000</td>\n",
       "    </tr>\n",
       "    <tr>\n",
       "      <th>9</th>\n",
       "      <td>Subject 10</td>\n",
       "      <td>72.727273</td>\n",
       "    </tr>\n",
       "    <tr>\n",
       "      <th>10</th>\n",
       "      <td>Subject 11</td>\n",
       "      <td>77.083333</td>\n",
       "    </tr>\n",
       "    <tr>\n",
       "      <th>11</th>\n",
       "      <td>Subject 12</td>\n",
       "      <td>80.208333</td>\n",
       "    </tr>\n",
       "    <tr>\n",
       "      <th>12</th>\n",
       "      <td>Subject 13</td>\n",
       "      <td>72.916667</td>\n",
       "    </tr>\n",
       "    <tr>\n",
       "      <th>13</th>\n",
       "      <td>Subject 14</td>\n",
       "      <td>72.916667</td>\n",
       "    </tr>\n",
       "    <tr>\n",
       "      <th>14</th>\n",
       "      <td>Subject 15</td>\n",
       "      <td>77.083333</td>\n",
       "    </tr>\n",
       "    <tr>\n",
       "      <th>15</th>\n",
       "      <td>Subject 16</td>\n",
       "      <td>73.958333</td>\n",
       "    </tr>\n",
       "    <tr>\n",
       "      <th>16</th>\n",
       "      <td>Subject 17</td>\n",
       "      <td>57.291667</td>\n",
       "    </tr>\n",
       "    <tr>\n",
       "      <th>17</th>\n",
       "      <td>Subject 18</td>\n",
       "      <td>54.166667</td>\n",
       "    </tr>\n",
       "    <tr>\n",
       "      <th>18</th>\n",
       "      <td>Subject 19</td>\n",
       "      <td>94.791667</td>\n",
       "    </tr>\n",
       "    <tr>\n",
       "      <th>19</th>\n",
       "      <td>Subject 20</td>\n",
       "      <td>72.368421</td>\n",
       "    </tr>\n",
       "    <tr>\n",
       "      <th>20</th>\n",
       "      <td>Subject 21</td>\n",
       "      <td>75.000000</td>\n",
       "    </tr>\n",
       "  </tbody>\n",
       "</table>\n",
       "</div>"
      ],
      "text/plain": [
       "    Score Name     Scores\n",
       "0    Subject 1  75.000000\n",
       "1    Subject 2  72.916667\n",
       "2    Subject 3  54.166667\n",
       "3    Subject 4  66.071429\n",
       "4    Subject 5  59.375000\n",
       "5    Subject 6  76.041667\n",
       "6    Subject 7  76.041667\n",
       "7    Subject 8  62.500000\n",
       "8    Subject 9  81.250000\n",
       "9   Subject 10  72.727273\n",
       "10  Subject 11  77.083333\n",
       "11  Subject 12  80.208333\n",
       "12  Subject 13  72.916667\n",
       "13  Subject 14  72.916667\n",
       "14  Subject 15  77.083333\n",
       "15  Subject 16  73.958333\n",
       "16  Subject 17  57.291667\n",
       "17  Subject 18  54.166667\n",
       "18  Subject 19  94.791667\n",
       "19  Subject 20  72.368421\n",
       "20  Subject 21  75.000000"
      ]
     },
     "execution_count": 590,
     "metadata": {},
     "output_type": "execute_result"
    }
   ],
   "source": [
    "data = {'Score Name':['Subject 1', 'Subject 2', 'Subject 3', 'Subject 4', 'Subject 5', 'Subject 6','Subject 7', 'Subject 8', 'Subject 9', 'Subject 10', 'Subject 11', 'Subject 12', 'Subject 13', 'Subject 14', 'Subject 15', 'Subject 16', 'Subject 17', 'Subject 18', 'Subject 19', 'Subject 20', 'Subject 21'],\n",
    "        'Scores':[score_test1*100, score_test2*100, score_test3*100, score_test4*100, score_test5*100, score_test6*100, score_test7*100, score_test8*100, score_test9*100, score_test10*100, score_test11*100, score_test12*100, score_test13*100, score_test14*100, score_test15*100, score_test16*100, score_test17*100, score_test18*100, score_test19*100, score_test20*100, score_test21*100]}\n",
    "\n",
    "df_score = pd.DataFrame(data)\n",
    "df_score        "
   ]
  },
  {
   "cell_type": "code",
   "execution_count": null,
   "metadata": {},
   "outputs": [],
   "source": []
  }
 ],
 "metadata": {
  "interpreter": {
   "hash": "2c9b013fbfbd10b794326d2c19d5edd189c06c7c43d5cdd5adc5265cd405c3ae"
  },
  "kernelspec": {
   "display_name": "Python 3.8.5 64-bit ('base': conda)",
   "name": "python3"
  },
  "language_info": {
   "codemirror_mode": {
    "name": "ipython",
    "version": 3
   },
   "file_extension": ".py",
   "mimetype": "text/x-python",
   "name": "python",
   "nbconvert_exporter": "python",
   "pygments_lexer": "ipython3",
   "version": "3.8.5"
  },
  "orig_nbformat": 4
 },
 "nbformat": 4,
 "nbformat_minor": 2
}
