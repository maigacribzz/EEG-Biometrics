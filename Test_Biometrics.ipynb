{
 "cells": [
  {
   "cell_type": "code",
   "execution_count": 1447,
   "metadata": {},
   "outputs": [],
   "source": [
    "import pandas as pd\n",
    "import numpy as np\n",
    "import matplotlib.pyplot as plt\n",
    "%matplotlib inline\n",
    "from random import choice\n",
    "from sklearn.metrics import accuracy_score\n",
    "from sklearn.svm import SVC\n",
    "from sklearn.metrics import roc_curve\n",
    "from sklearn.decomposition import  PCA\n",
    "from sklearn.preprocessing import StandardScaler\n",
    "from sklearn.metrics import classification_report,confusion_matrix\n",
    "from sklearn.metrics import accuracy_score\n",
    "\n",
    "\n",
    "import warnings\n",
    "warnings.filterwarnings(\"ignore\")"
   ]
  },
  {
   "cell_type": "markdown",
   "metadata": {},
   "source": [
    "# STIMULUS 1 - EMOTIONS"
   ]
  },
  {
   "cell_type": "code",
   "execution_count": 1448,
   "metadata": {},
   "outputs": [
    {
     "name": "stdout",
     "output_type": "stream",
     "text": [
      "<class 'pandas.core.frame.DataFrame'>\n",
      "RangeIndex: 993 entries, 0 to 992\n",
      "Columns: 561 entries, 0 to 560\n",
      "dtypes: float64(560), int64(1)\n",
      "memory usage: 4.3 MB\n",
      "None\n",
      "[ 1  2  3  4  5  6  7  8  9 10 11 12 13 14 15 16 17 18 19 20 21]\n"
     ]
    }
   ],
   "source": [
    "df = pd.read_excel('Train_Dataset.xlsx',header=None)\n",
    "df.head(5)\n",
    "print(df.info())\n",
    "df.rename(columns = {560:'Target'}, inplace=True)\n",
    "print(df['Target'].unique())\n",
    "df.describe()\n",
    "df.isnull().any().any()\n",
    "df.isnull().sum().sum()\n",
    "new_df = df['Target']"
   ]
  },
  {
   "cell_type": "markdown",
   "metadata": {},
   "source": [
    "## Creating random sample for Subject Train Target - Modified Version"
   ]
  },
  {
   "cell_type": "code",
   "execution_count": 1449,
   "metadata": {},
   "outputs": [],
   "source": [
    "def generate_auth_dataset(df, subj, ratio=3):\n",
    "        subj_df = df.copy()\n",
    "        subj_df.loc[(subj_df['Target'] != subj), 'Target'] = 0\n",
    "        subj_df.loc[(subj_df['Target'] == subj), 'Target'] = 1\n",
    "        gen_df = subj_df[subj_df['Target'] == 1]\n",
    "        no_gen = gen_df.shape[0]\n",
    "        imp_df = subj_df[subj_df['Target'] == 0].sample(n = no_gen * ratio)\n",
    "        auth_df = pd.concat([gen_df, imp_df])\n",
    "        return auth_df"
   ]
  },
  {
   "cell_type": "code",
   "execution_count": 1450,
   "metadata": {},
   "outputs": [],
   "source": [
    "df1 = generate_auth_dataset(df,1)"
   ]
  },
  {
   "cell_type": "code",
   "execution_count": 1451,
   "metadata": {},
   "outputs": [
    {
     "data": {
      "text/plain": [
       "0    132\n",
       "1     44\n",
       "Name: Target, dtype: int64"
      ]
     },
     "execution_count": 1451,
     "metadata": {},
     "output_type": "execute_result"
    }
   ],
   "source": [
    "df1['Target'].value_counts()"
   ]
  },
  {
   "cell_type": "markdown",
   "metadata": {},
   "source": [
    "# Subject 1 Preparation For Train Dataset"
   ]
  },
  {
   "cell_type": "markdown",
   "metadata": {},
   "source": [
    "## Applying StandardScaler to Dataset"
   ]
  },
  {
   "cell_type": "code",
   "execution_count": 1452,
   "metadata": {},
   "outputs": [],
   "source": [
    "scaler = StandardScaler()\n",
    "X_Feat, y_train = df1.iloc[:, :-1].values, df1.iloc[:, -1].values\n",
    "scaler.fit(X_Feat)\n",
    "scaled_data = scaler.transform(X_Feat)"
   ]
  },
  {
   "cell_type": "markdown",
   "metadata": {},
   "source": [
    "## Feature Reductionality -  PCA "
   ]
  },
  {
   "cell_type": "code",
   "execution_count": 1453,
   "metadata": {},
   "outputs": [
    {
     "data": {
      "text/plain": [
       "(176, 30)"
      ]
     },
     "execution_count": 1453,
     "metadata": {},
     "output_type": "execute_result"
    }
   ],
   "source": [
    "pca = PCA(n_components=30)\n",
    "pca.fit(scaled_data)\n",
    "x_pca = pca.transform(scaled_data)\n",
    "x_pca.shape"
   ]
  },
  {
   "cell_type": "markdown",
   "metadata": {},
   "source": [
    "# Loading Dataset for Subject 1 Testing"
   ]
  },
  {
   "cell_type": "code",
   "execution_count": 1454,
   "metadata": {},
   "outputs": [],
   "source": [
    "df_test = pd.read_excel('Test_Dataset.xlsx',header=None)\n",
    "df_test.rename(columns = {560:'Target'}, inplace=True)\n"
   ]
  },
  {
   "cell_type": "code",
   "execution_count": 1455,
   "metadata": {},
   "outputs": [],
   "source": [
    "df1_test = generate_auth_dataset(df_test, 1, ratio=3)"
   ]
  },
  {
   "cell_type": "code",
   "execution_count": 1456,
   "metadata": {},
   "outputs": [
    {
     "data": {
      "text/plain": [
       "array([1, 0], dtype=int64)"
      ]
     },
     "execution_count": 1456,
     "metadata": {},
     "output_type": "execute_result"
    }
   ],
   "source": [
    "df1_test['Target'].unique()"
   ]
  },
  {
   "cell_type": "code",
   "execution_count": 1457,
   "metadata": {},
   "outputs": [
    {
     "data": {
      "text/plain": [
       "0    72\n",
       "1    24\n",
       "Name: Target, dtype: int64"
      ]
     },
     "execution_count": 1457,
     "metadata": {},
     "output_type": "execute_result"
    }
   ],
   "source": [
    "df1_test['Target'].value_counts()"
   ]
  },
  {
   "cell_type": "markdown",
   "metadata": {},
   "source": [
    "## Applying StandardScaler to Dataset"
   ]
  },
  {
   "cell_type": "code",
   "execution_count": 1458,
   "metadata": {},
   "outputs": [],
   "source": [
    "scaler = StandardScaler()\n",
    "X_Feat_test, y_test = df1_test.iloc[:, :-1].values, df1_test.iloc[:, -1].values\n",
    "scaler.fit(X_Feat_test)\n",
    "scaled_data_test = scaler.transform(X_Feat_test)"
   ]
  },
  {
   "cell_type": "markdown",
   "metadata": {},
   "source": [
    "# Feature Reductionality -  PCA "
   ]
  },
  {
   "cell_type": "code",
   "execution_count": 1459,
   "metadata": {},
   "outputs": [
    {
     "data": {
      "text/plain": [
       "(96, 30)"
      ]
     },
     "execution_count": 1459,
     "metadata": {},
     "output_type": "execute_result"
    }
   ],
   "source": [
    "pca = PCA(n_components=30)\n",
    "pca.fit(scaled_data_test)\n",
    "x_pca_test = pca.transform(scaled_data_test)\n",
    "x_pca_test.shape"
   ]
  },
  {
   "cell_type": "code",
   "execution_count": 1460,
   "metadata": {},
   "outputs": [],
   "source": [
    "X_test = x_pca_test\n",
    "X_train = x_pca"
   ]
  },
  {
   "cell_type": "markdown",
   "metadata": {},
   "source": [
    "# Machine Learning Application"
   ]
  },
  {
   "cell_type": "markdown",
   "metadata": {},
   "source": [
    "## Assigning Train and test Labels to Loaded Dataset"
   ]
  },
  {
   "cell_type": "code",
   "execution_count": 1461,
   "metadata": {},
   "outputs": [],
   "source": [
    "X_test = x_pca_test\n",
    "X_train = x_pca"
   ]
  },
  {
   "cell_type": "code",
   "execution_count": 1462,
   "metadata": {},
   "outputs": [
    {
     "data": {
      "text/plain": [
       "(176, 30)"
      ]
     },
     "execution_count": 1462,
     "metadata": {},
     "output_type": "execute_result"
    }
   ],
   "source": [
    "X_train.shape"
   ]
  },
  {
   "cell_type": "code",
   "execution_count": 1463,
   "metadata": {},
   "outputs": [
    {
     "data": {
      "text/plain": [
       "(176,)"
      ]
     },
     "execution_count": 1463,
     "metadata": {},
     "output_type": "execute_result"
    }
   ],
   "source": [
    "y_train.shape"
   ]
  },
  {
   "cell_type": "code",
   "execution_count": 1464,
   "metadata": {},
   "outputs": [
    {
     "name": "stdout",
     "output_type": "stream",
     "text": [
      "[[64  8]\n",
      " [22  2]]\n",
      "\n",
      "\n",
      "              precision    recall  f1-score   support\n",
      "\n",
      "           0       0.74      0.89      0.81        72\n",
      "           1       0.20      0.08      0.12        24\n",
      "\n",
      "    accuracy                           0.69        96\n",
      "   macro avg       0.47      0.49      0.46        96\n",
      "weighted avg       0.61      0.69      0.64        96\n",
      "\n"
     ]
    }
   ],
   "source": [
    "from sklearn.neighbors import KNeighborsClassifier\n",
    "model = KNeighborsClassifier()\n",
    "model.fit(X_train,y_train)\n",
    "predictions = model.predict(X_test)\n",
    "\n",
    "print(confusion_matrix(y_test,predictions))\n",
    "print('\\n')\n",
    "print(classification_report(y_test,predictions))\n",
    "\n",
    "score_test1 = accuracy_score(y_test,predictions)"
   ]
  },
  {
   "cell_type": "code",
   "execution_count": 1465,
   "metadata": {},
   "outputs": [],
   "source": [
    "from sklearn.model_selection import cross_val_score\n",
    "from sklearn.model_selection import GridSearchCV\n",
    "# SVC best estimator\n",
    "# Support Vector Classifier\n",
    "svc_params = {'C': [0.5, 0.7, 0.9, 1], 'kernel': ['rbf', 'poly', 'sigmoid', 'linear']}\n",
    "grid_svc = GridSearchCV(SVC(), svc_params)\n",
    "grid_svc.fit(X_train, y_train)\n",
    "svc = grid_svc.best_estimator_\n",
    "\n",
    "svc_score = cross_val_score(svc, X_train, y_train, cv=5)\n",
    "#print('Support Vector Classifier Cross Validation Score', round(svc_score.mean() * 100, 2).astype(str) + '%')"
   ]
  },
  {
   "cell_type": "code",
   "execution_count": 1466,
   "metadata": {},
   "outputs": [],
   "source": [
    "from sklearn.metrics import roc_curve\n",
    "from sklearn.model_selection import cross_val_predict\n",
    "# Create a DataFrame with all the scores and the classifiers names.\n",
    "\n",
    "svc = grid_svc.best_estimator_\n",
    "\n",
    "svc_pred = cross_val_predict(svc, X_train, y_train, cv=5,\n",
    "                             method=\"decision_function\")"
   ]
  },
  {
   "cell_type": "code",
   "execution_count": 1467,
   "metadata": {},
   "outputs": [
    {
     "name": "stdout",
     "output_type": "stream",
     "text": [
      "Support Vector Classifier:  0.8787878787878789\n"
     ]
    }
   ],
   "source": [
    "from sklearn.metrics import roc_auc_score\n",
    "\n",
    "print('Support Vector Classifier: ', roc_auc_score(y_train, svc_pred))"
   ]
  },
  {
   "cell_type": "code",
   "execution_count": 1468,
   "metadata": {},
   "outputs": [
    {
     "data": {
      "image/png": "[encoded data removed]",
      "text/plain": [
       "<Figure size 1152x576 with 1 Axes>"
      ]
     },
     "metadata": {
      "needs_background": "light"
     },
     "output_type": "display_data"
    }
   ],
   "source": [
    "svc_fpr, svc_tpr, svc_threshold = roc_curve(y_train, svc_pred)\n",
    "\n",
    "def graph_roc_curve_multiple(svc_fpr, svc_tpr):\n",
    "    plt.figure(figsize=(16,8))\n",
    "    plt.title('ROC Curve SVC Classifiers', fontsize=18)\n",
    "    plt.plot(svc_fpr, svc_tpr, label='Support Vector Classifier Score: {:.4f}'.format(roc_auc_score(y_train, svc_pred)))\n",
    "    plt.plot([0, 1], [0, 1], 'k--')\n",
    "    plt.axis([-0.01, 1, 0, 1])\n",
    "    plt.xlabel('False Positive Rate', fontsize=16)\n",
    "    plt.ylabel('True Positive Rate', fontsize=16)\n",
    "    plt.annotate('Minimum ROC Score of 50% \\n (This is the minimum score to get)', xy=(0.5, 0.5), xytext=(0.6, 0.3),\n",
    "                arrowprops=dict(facecolor='#6E726D', shrink=0.05),\n",
    "                )\n",
    "    plt.legend()\n",
    "    \n",
    "graph_roc_curve_multiple(svc_fpr, svc_tpr)\n",
    "plt.show()"
   ]
  },
  {
   "cell_type": "markdown",
   "metadata": {},
   "source": [
    "# Subject 2"
   ]
  },
  {
   "cell_type": "code",
   "execution_count": 1469,
   "metadata": {},
   "outputs": [],
   "source": [
    "df2 = generate_auth_dataset(df,2, ratio=3)\n",
    "df2_test = generate_auth_dataset(df_test,2, ratio=3)"
   ]
  },
  {
   "cell_type": "code",
   "execution_count": 1470,
   "metadata": {},
   "outputs": [
    {
     "data": {
      "text/plain": [
       "(192, 30)"
      ]
     },
     "execution_count": 1470,
     "metadata": {},
     "output_type": "execute_result"
    }
   ],
   "source": [
    "scaler = StandardScaler()\n",
    "X_Feat, y_train = df2.iloc[:, :-1].values, df2.iloc[:, -1].values\n",
    "scaler.fit(X_Feat)\n",
    "scaled_data2 = scaler.transform(X_Feat)\n",
    "\n",
    "scaler = StandardScaler()\n",
    "X_Feat_test, y_test = df2_test.iloc[:, :-1].values, df2_test.iloc[:, -1].values\n",
    "scaler.fit(X_Feat_test)\n",
    "scaled_data_test2 = scaler.transform(X_Feat_test)\n",
    "\n",
    "pca = PCA(n_components=30)\n",
    "pca.fit(scaled_data)\n",
    "x_pca2 = pca.transform(scaled_data2)\n",
    "x_pca2.shape\n"
   ]
  },
  {
   "cell_type": "code",
   "execution_count": 1471,
   "metadata": {},
   "outputs": [
    {
     "data": {
      "text/plain": [
       "(96, 30)"
      ]
     },
     "execution_count": 1471,
     "metadata": {},
     "output_type": "execute_result"
    }
   ],
   "source": [
    "pca = PCA(n_components=30)\n",
    "pca.fit(scaled_data_test)\n",
    "x_pca_test2 = pca.transform(scaled_data_test2)\n",
    "x_pca_test2.shape"
   ]
  },
  {
   "cell_type": "code",
   "execution_count": 1472,
   "metadata": {},
   "outputs": [],
   "source": [
    "X_test = x_pca_test2\n",
    "X_train = x_pca2"
   ]
  },
  {
   "cell_type": "code",
   "execution_count": 1473,
   "metadata": {},
   "outputs": [
    {
     "name": "stdout",
     "output_type": "stream",
     "text": [
      "[[72  0]\n",
      " [24  0]]\n",
      "\n",
      "\n",
      "              precision    recall  f1-score   support\n",
      "\n",
      "           0       0.75      1.00      0.86        72\n",
      "           1       0.00      0.00      0.00        24\n",
      "\n",
      "    accuracy                           0.75        96\n",
      "   macro avg       0.38      0.50      0.43        96\n",
      "weighted avg       0.56      0.75      0.64        96\n",
      "\n"
     ]
    }
   ],
   "source": [
    "model = SVC()\n",
    "model.fit(X_train,y_train)\n",
    "predictions = model.predict(X_test)\n",
    "\n",
    "\n",
    "print(confusion_matrix(y_test,predictions))\n",
    "print('\\n')\n",
    "print(classification_report(y_test,predictions))\n",
    "\n",
    "score_test2 = accuracy_score(y_test,predictions)"
   ]
  },
  {
   "cell_type": "markdown",
   "metadata": {},
   "source": [
    "## Subject 3"
   ]
  },
  {
   "cell_type": "code",
   "execution_count": 1474,
   "metadata": {},
   "outputs": [],
   "source": [
    "df3 = generate_auth_dataset(df,3, ratio=3)\n",
    "df3_test = generate_auth_dataset(df_test,3, ratio=3)"
   ]
  },
  {
   "cell_type": "code",
   "execution_count": 1475,
   "metadata": {},
   "outputs": [
    {
     "data": {
      "text/plain": [
       "(188, 30)"
      ]
     },
     "execution_count": 1475,
     "metadata": {},
     "output_type": "execute_result"
    }
   ],
   "source": [
    "scaler = StandardScaler()\n",
    "X_Feat, y_train = df3.iloc[:, :-1].values, df3.iloc[:, -1].values\n",
    "scaler.fit(X_Feat)\n",
    "scaled_data3 = scaler.transform(X_Feat)\n",
    "\n",
    "scaler = StandardScaler()\n",
    "X_Feat_test, y_test = df3_test.iloc[:, :-1].values, df3_test.iloc[:, -1].values\n",
    "scaler.fit(X_Feat_test)\n",
    "scaled_data_test3 = scaler.transform(X_Feat_test)\n",
    "\n",
    "pca = PCA(n_components=30)\n",
    "pca.fit(scaled_data)\n",
    "x_pca3 = pca.transform(scaled_data3)\n",
    "x_pca3.shape\n"
   ]
  },
  {
   "cell_type": "code",
   "execution_count": 1476,
   "metadata": {},
   "outputs": [
    {
     "data": {
      "text/plain": [
       "(96, 30)"
      ]
     },
     "execution_count": 1476,
     "metadata": {},
     "output_type": "execute_result"
    }
   ],
   "source": [
    "pca = PCA(n_components=30)\n",
    "pca.fit(scaled_data_test)\n",
    "x_pca_test3 = pca.transform(scaled_data_test3)\n",
    "x_pca_test3.shape"
   ]
  },
  {
   "cell_type": "code",
   "execution_count": 1477,
   "metadata": {},
   "outputs": [],
   "source": [
    "X_test = x_pca_test3\n",
    "X_train = x_pca3"
   ]
  },
  {
   "cell_type": "code",
   "execution_count": 1478,
   "metadata": {},
   "outputs": [
    {
     "name": "stdout",
     "output_type": "stream",
     "text": [
      "[[37 35]\n",
      " [24  0]]\n",
      "\n",
      "\n",
      "              precision    recall  f1-score   support\n",
      "\n",
      "           0       0.61      0.51      0.56        72\n",
      "           1       0.00      0.00      0.00        24\n",
      "\n",
      "    accuracy                           0.39        96\n",
      "   macro avg       0.30      0.26      0.28        96\n",
      "weighted avg       0.45      0.39      0.42        96\n",
      "\n"
     ]
    }
   ],
   "source": [
    "model = SVC()\n",
    "model.fit(X_train,y_train)\n",
    "predictions = model.predict(X_test)\n",
    "\n",
    "\n",
    "print(confusion_matrix(y_test,predictions))\n",
    "print('\\n')\n",
    "print(classification_report(y_test,predictions))\n",
    "\n",
    "score_test3 = accuracy_score(y_test,predictions)"
   ]
  },
  {
   "cell_type": "code",
   "execution_count": 1479,
   "metadata": {},
   "outputs": [],
   "source": [
    "df4 = generate_auth_dataset(df,4, ratio=3)\n",
    "df4_test = generate_auth_dataset(df_test,4, ratio=3)"
   ]
  },
  {
   "cell_type": "code",
   "execution_count": 1480,
   "metadata": {},
   "outputs": [
    {
     "data": {
      "text/plain": [
       "(176, 30)"
      ]
     },
     "execution_count": 1480,
     "metadata": {},
     "output_type": "execute_result"
    }
   ],
   "source": [
    "scaler = StandardScaler()\n",
    "X_Feat, y_train = df4.iloc[:, :-1].values, df4.iloc[:, -1].values\n",
    "scaler.fit(X_Feat)\n",
    "scaled_data4 = scaler.transform(X_Feat)\n",
    "\n",
    "scaler = StandardScaler()\n",
    "X_Feat_test, y_test = df4_test.iloc[:, :-1].values, df4_test.iloc[:, -1].values\n",
    "scaler.fit(X_Feat_test)\n",
    "scaled_data_test4 = scaler.transform(X_Feat_test)\n",
    "\n",
    "pca = PCA(n_components=30)\n",
    "pca.fit(scaled_data4)\n",
    "x_pca4 = pca.transform(scaled_data4)\n",
    "x_pca4.shape\n"
   ]
  },
  {
   "cell_type": "code",
   "execution_count": 1481,
   "metadata": {},
   "outputs": [
    {
     "data": {
      "text/plain": [
       "(56, 30)"
      ]
     },
     "execution_count": 1481,
     "metadata": {},
     "output_type": "execute_result"
    }
   ],
   "source": [
    "pca = PCA(n_components=30)\n",
    "pca.fit(scaled_data_test4)\n",
    "x_pca_test4 = pca.transform(scaled_data_test4)\n",
    "x_pca_test4.shape"
   ]
  },
  {
   "cell_type": "code",
   "execution_count": 1482,
   "metadata": {},
   "outputs": [],
   "source": [
    "X_test = x_pca_test4\n",
    "X_train = x_pca4"
   ]
  },
  {
   "cell_type": "code",
   "execution_count": 1483,
   "metadata": {},
   "outputs": [
    {
     "name": "stdout",
     "output_type": "stream",
     "text": [
      "[[42  0]\n",
      " [13  1]]\n",
      "\n",
      "\n",
      "              precision    recall  f1-score   support\n",
      "\n",
      "           0       0.76      1.00      0.87        42\n",
      "           1       1.00      0.07      0.13        14\n",
      "\n",
      "    accuracy                           0.77        56\n",
      "   macro avg       0.88      0.54      0.50        56\n",
      "weighted avg       0.82      0.77      0.68        56\n",
      "\n"
     ]
    }
   ],
   "source": [
    "model = SVC()\n",
    "model.fit(X_train,y_train)\n",
    "predictions = model.predict(X_test)\n",
    "\n",
    "\n",
    "print(confusion_matrix(y_test,predictions))\n",
    "print('\\n')\n",
    "print(classification_report(y_test,predictions))\n",
    "\n",
    "score_test4 = accuracy_score(y_test,predictions)"
   ]
  },
  {
   "cell_type": "code",
   "execution_count": 1484,
   "metadata": {},
   "outputs": [],
   "source": [
    "df5 = generate_auth_dataset(df,5, ratio=3)\n",
    "df5_test = generate_auth_dataset(df_test,5, ratio=3)"
   ]
  },
  {
   "cell_type": "code",
   "execution_count": 1485,
   "metadata": {},
   "outputs": [
    {
     "data": {
      "text/plain": [
       "(192, 30)"
      ]
     },
     "execution_count": 1485,
     "metadata": {},
     "output_type": "execute_result"
    }
   ],
   "source": [
    "scaler = StandardScaler()\n",
    "X_Feat, y_train = df5.iloc[:, :-1].values, df5.iloc[:, -1].values\n",
    "scaler.fit(X_Feat)\n",
    "scaled_data5 = scaler.transform(X_Feat)\n",
    "\n",
    "scaler = StandardScaler()\n",
    "X_Feat_test, y_test = df5_test.iloc[:, :-1].values, df5_test.iloc[:, -1].values\n",
    "scaler.fit(X_Feat_test)\n",
    "scaled_data_test5 = scaler.transform(X_Feat_test)\n",
    "\n",
    "pca = PCA(n_components=30)\n",
    "pca.fit(scaled_data5)\n",
    "x_pca5 = pca.transform(scaled_data5)\n",
    "x_pca5.shape"
   ]
  },
  {
   "cell_type": "code",
   "execution_count": 1486,
   "metadata": {},
   "outputs": [
    {
     "data": {
      "text/plain": [
       "(96, 30)"
      ]
     },
     "execution_count": 1486,
     "metadata": {},
     "output_type": "execute_result"
    }
   ],
   "source": [
    "pca = PCA(n_components=30)\n",
    "pca.fit(scaled_data_test5)\n",
    "x_pca_test5 = pca.transform(scaled_data_test5)\n",
    "x_pca_test5.shape"
   ]
  },
  {
   "cell_type": "code",
   "execution_count": 1487,
   "metadata": {},
   "outputs": [],
   "source": [
    "X_test = x_pca_test5\n",
    "X_train = x_pca5"
   ]
  },
  {
   "cell_type": "code",
   "execution_count": 1488,
   "metadata": {},
   "outputs": [
    {
     "name": "stdout",
     "output_type": "stream",
     "text": [
      "[[71  1]\n",
      " [24  0]]\n",
      "\n",
      "\n",
      "              precision    recall  f1-score   support\n",
      "\n",
      "           0       0.75      0.99      0.85        72\n",
      "           1       0.00      0.00      0.00        24\n",
      "\n",
      "    accuracy                           0.74        96\n",
      "   macro avg       0.37      0.49      0.43        96\n",
      "weighted avg       0.56      0.74      0.64        96\n",
      "\n"
     ]
    }
   ],
   "source": [
    "model = SVC()\n",
    "model.fit(X_train,y_train)\n",
    "predictions = model.predict(X_test)\n",
    "\n",
    "\n",
    "print(confusion_matrix(y_test,predictions))\n",
    "print('\\n')\n",
    "print(classification_report(y_test,predictions))\n",
    "\n",
    "score_test5 = accuracy_score(y_test,predictions)"
   ]
  },
  {
   "cell_type": "code",
   "execution_count": 1489,
   "metadata": {},
   "outputs": [],
   "source": [
    "df6 = generate_auth_dataset(df,6, ratio=3)\n",
    "df6_test = generate_auth_dataset(df_test,6, ratio=3)"
   ]
  },
  {
   "cell_type": "code",
   "execution_count": 1490,
   "metadata": {},
   "outputs": [
    {
     "data": {
      "text/plain": [
       "(192, 30)"
      ]
     },
     "execution_count": 1490,
     "metadata": {},
     "output_type": "execute_result"
    }
   ],
   "source": [
    "scaler = StandardScaler()\n",
    "X_Feat, y_train = df6.iloc[:, :-1].values, df6.iloc[:, -1].values\n",
    "scaler.fit(X_Feat)\n",
    "scaled_data6 = scaler.transform(X_Feat)\n",
    "\n",
    "scaler = StandardScaler()\n",
    "X_Feat_test, y_test = df6_test.iloc[:, :-1].values, df6_test.iloc[:, -1].values\n",
    "scaler.fit(X_Feat_test)\n",
    "scaled_data_test6 = scaler.transform(X_Feat_test)\n",
    "\n",
    "pca = PCA(n_components=30)\n",
    "pca.fit(scaled_data6)\n",
    "x_pca6 = pca.transform(scaled_data6)\n",
    "x_pca6.shape"
   ]
  },
  {
   "cell_type": "code",
   "execution_count": 1491,
   "metadata": {},
   "outputs": [
    {
     "data": {
      "text/plain": [
       "(96, 30)"
      ]
     },
     "execution_count": 1491,
     "metadata": {},
     "output_type": "execute_result"
    }
   ],
   "source": [
    "pca = PCA(n_components=30)\n",
    "pca.fit(scaled_data_test6)\n",
    "x_pca_test6 = pca.transform(scaled_data_test6)\n",
    "x_pca_test6.shape"
   ]
  },
  {
   "cell_type": "code",
   "execution_count": 1492,
   "metadata": {},
   "outputs": [],
   "source": [
    "X_test = x_pca_test6\n",
    "X_train = x_pca6"
   ]
  },
  {
   "cell_type": "code",
   "execution_count": 1493,
   "metadata": {},
   "outputs": [
    {
     "name": "stdout",
     "output_type": "stream",
     "text": [
      "[[70  2]\n",
      " [24  0]]\n",
      "\n",
      "\n",
      "              precision    recall  f1-score   support\n",
      "\n",
      "           0       0.74      0.97      0.84        72\n",
      "           1       0.00      0.00      0.00        24\n",
      "\n",
      "    accuracy                           0.73        96\n",
      "   macro avg       0.37      0.49      0.42        96\n",
      "weighted avg       0.56      0.73      0.63        96\n",
      "\n"
     ]
    }
   ],
   "source": [
    "model = SVC()\n",
    "model.fit(X_train,y_train)\n",
    "predictions = model.predict(X_test)\n",
    "\n",
    "\n",
    "print(confusion_matrix(y_test,predictions))\n",
    "print('\\n')\n",
    "print(classification_report(y_test,predictions))\n",
    "\n",
    "score_test6 = accuracy_score(y_test,predictions)"
   ]
  },
  {
   "cell_type": "code",
   "execution_count": 1494,
   "metadata": {},
   "outputs": [],
   "source": [
    "df7 = generate_auth_dataset(df,7, ratio=3)\n",
    "df7_test = generate_auth_dataset(df_test,7, ratio=3)"
   ]
  },
  {
   "cell_type": "code",
   "execution_count": 1495,
   "metadata": {},
   "outputs": [
    {
     "data": {
      "text/plain": [
       "(192, 30)"
      ]
     },
     "execution_count": 1495,
     "metadata": {},
     "output_type": "execute_result"
    }
   ],
   "source": [
    "scaler = StandardScaler()\n",
    "X_Feat, y_train = df7.iloc[:, :-1].values, df7.iloc[:, -1].values\n",
    "scaler.fit(X_Feat)\n",
    "scaled_data7 = scaler.transform(X_Feat)\n",
    "\n",
    "scaler = StandardScaler()\n",
    "X_Feat_test, y_test = df7_test.iloc[:, :-1].values, df7_test.iloc[:, -1].values\n",
    "scaler.fit(X_Feat_test)\n",
    "scaled_data_test7 = scaler.transform(X_Feat_test)\n",
    "\n",
    "pca = PCA(n_components=30)\n",
    "pca.fit(scaled_data7)\n",
    "x_pca7 = pca.transform(scaled_data7)\n",
    "x_pca7.shape"
   ]
  },
  {
   "cell_type": "code",
   "execution_count": 1496,
   "metadata": {},
   "outputs": [
    {
     "data": {
      "text/plain": [
       "(96, 30)"
      ]
     },
     "execution_count": 1496,
     "metadata": {},
     "output_type": "execute_result"
    }
   ],
   "source": [
    "pca = PCA(n_components=30)\n",
    "pca.fit(scaled_data_test7)\n",
    "x_pca_test7 = pca.transform(scaled_data_test7)\n",
    "x_pca_test7.shape"
   ]
  },
  {
   "cell_type": "code",
   "execution_count": 1497,
   "metadata": {},
   "outputs": [],
   "source": [
    "X_test = x_pca_test7\n",
    "X_train = x_pca7"
   ]
  },
  {
   "cell_type": "code",
   "execution_count": 1498,
   "metadata": {},
   "outputs": [
    {
     "name": "stdout",
     "output_type": "stream",
     "text": [
      "[[71  1]\n",
      " [24  0]]\n",
      "\n",
      "\n",
      "              precision    recall  f1-score   support\n",
      "\n",
      "           0       0.75      0.99      0.85        72\n",
      "           1       0.00      0.00      0.00        24\n",
      "\n",
      "    accuracy                           0.74        96\n",
      "   macro avg       0.37      0.49      0.43        96\n",
      "weighted avg       0.56      0.74      0.64        96\n",
      "\n"
     ]
    }
   ],
   "source": [
    "model = SVC()\n",
    "model.fit(X_train,y_train)\n",
    "predictions = model.predict(X_test)\n",
    "\n",
    "\n",
    "print(confusion_matrix(y_test,predictions))\n",
    "print('\\n')\n",
    "print(classification_report(y_test,predictions))\n",
    "\n",
    "score_test7 = accuracy_score(y_test,predictions)"
   ]
  },
  {
   "cell_type": "code",
   "execution_count": 1499,
   "metadata": {},
   "outputs": [],
   "source": [
    "df8 = generate_auth_dataset(df,8, ratio=3)\n",
    "df8_test = generate_auth_dataset(df_test,8, ratio=3)"
   ]
  },
  {
   "cell_type": "code",
   "execution_count": 1500,
   "metadata": {},
   "outputs": [
    {
     "data": {
      "text/plain": [
       "(192, 30)"
      ]
     },
     "execution_count": 1500,
     "metadata": {},
     "output_type": "execute_result"
    }
   ],
   "source": [
    "scaler = StandardScaler()\n",
    "X_Feat, y_train = df8.iloc[:, :-1].values, df8.iloc[:, -1].values\n",
    "scaler.fit(X_Feat)\n",
    "scaled_data8 = scaler.transform(X_Feat)\n",
    "\n",
    "scaler = StandardScaler()\n",
    "X_Feat_test, y_test = df8_test.iloc[:, :-1].values, df8_test.iloc[:, -1].values\n",
    "scaler.fit(X_Feat_test)\n",
    "scaled_data_test8 = scaler.transform(X_Feat_test)\n",
    "\n",
    "pca = PCA(n_components=30)\n",
    "pca.fit(scaled_data8)\n",
    "x_pca8 = pca.transform(scaled_data8)\n",
    "x_pca8.shape"
   ]
  },
  {
   "cell_type": "code",
   "execution_count": 1501,
   "metadata": {},
   "outputs": [
    {
     "data": {
      "text/plain": [
       "(96, 30)"
      ]
     },
     "execution_count": 1501,
     "metadata": {},
     "output_type": "execute_result"
    }
   ],
   "source": [
    "pca = PCA(n_components=30)\n",
    "pca.fit(scaled_data_test8)\n",
    "x_pca_test8 = pca.transform(scaled_data_test8)\n",
    "x_pca_test8.shape"
   ]
  },
  {
   "cell_type": "code",
   "execution_count": 1502,
   "metadata": {},
   "outputs": [],
   "source": [
    "X_test = x_pca_test8\n",
    "X_train = x_pca8"
   ]
  },
  {
   "cell_type": "code",
   "execution_count": 1503,
   "metadata": {},
   "outputs": [
    {
     "name": "stdout",
     "output_type": "stream",
     "text": [
      "[[53 19]\n",
      " [24  0]]\n",
      "\n",
      "\n",
      "              precision    recall  f1-score   support\n",
      "\n",
      "           0       0.69      0.74      0.71        72\n",
      "           1       0.00      0.00      0.00        24\n",
      "\n",
      "    accuracy                           0.55        96\n",
      "   macro avg       0.34      0.37      0.36        96\n",
      "weighted avg       0.52      0.55      0.53        96\n",
      "\n"
     ]
    }
   ],
   "source": [
    "model = SVC()\n",
    "model.fit(X_train,y_train)\n",
    "predictions = model.predict(X_test)\n",
    "\n",
    "\n",
    "print(confusion_matrix(y_test,predictions))\n",
    "print('\\n')\n",
    "print(classification_report(y_test,predictions))\n",
    "\n",
    "score_test8 = accuracy_score(y_test,predictions)"
   ]
  },
  {
   "cell_type": "code",
   "execution_count": 1504,
   "metadata": {},
   "outputs": [
    {
     "name": "stdout",
     "output_type": "stream",
     "text": [
      "[[67  5]\n",
      " [22  2]]\n",
      "\n",
      "\n",
      "              precision    recall  f1-score   support\n",
      "\n",
      "           0       0.75      0.93      0.83        72\n",
      "           1       0.29      0.08      0.13        24\n",
      "\n",
      "    accuracy                           0.72        96\n",
      "   macro avg       0.52      0.51      0.48        96\n",
      "weighted avg       0.64      0.72      0.66        96\n",
      "\n"
     ]
    }
   ],
   "source": [
    "df9 = generate_auth_dataset(df,9, ratio=3)\n",
    "df9_test = generate_auth_dataset(df_test,9, ratio=3)\n",
    "\n",
    "scaler = StandardScaler()\n",
    "X_Feat, y_train = df9.iloc[:, :-1].values, df9.iloc[:, -1].values\n",
    "scaler.fit(X_Feat)\n",
    "scaled_data9 = scaler.transform(X_Feat)\n",
    "\n",
    "scaler = StandardScaler()\n",
    "X_Feat_test, y_test = df9_test.iloc[:, :-1].values, df9_test.iloc[:, -1].values\n",
    "scaler.fit(X_Feat_test)\n",
    "scaled_data_test9 = scaler.transform(X_Feat_test)\n",
    "\n",
    "pca = PCA(n_components=30)\n",
    "pca.fit(scaled_data9)\n",
    "x_pca9 = pca.transform(scaled_data9)\n",
    "\n",
    "pca = PCA(n_components=30)\n",
    "pca.fit(scaled_data_test9)\n",
    "x_pca_test9 = pca.transform(scaled_data_test9)\n",
    "\n",
    "X_test = x_pca_test9\n",
    "X_train = x_pca9\n",
    "\n",
    "model = SVC()\n",
    "model.fit(X_train,y_train)\n",
    "predictions = model.predict(X_test)\n",
    "\n",
    "\n",
    "print(confusion_matrix(y_test,predictions))\n",
    "print('\\n')\n",
    "print(classification_report(y_test,predictions))\n",
    "\n",
    "score_test9 = accuracy_score(y_test,predictions)"
   ]
  },
  {
   "cell_type": "code",
   "execution_count": 1505,
   "metadata": {},
   "outputs": [
    {
     "name": "stdout",
     "output_type": "stream",
     "text": [
      "[[64  2]\n",
      " [22  0]]\n",
      "\n",
      "\n",
      "              precision    recall  f1-score   support\n",
      "\n",
      "           0       0.74      0.97      0.84        66\n",
      "           1       0.00      0.00      0.00        22\n",
      "\n",
      "    accuracy                           0.73        88\n",
      "   macro avg       0.37      0.48      0.42        88\n",
      "weighted avg       0.56      0.73      0.63        88\n",
      "\n"
     ]
    }
   ],
   "source": [
    "df10 = generate_auth_dataset(df,10, ratio=3)\n",
    "df10_test = generate_auth_dataset(df_test,10, ratio=3)\n",
    "\n",
    "scaler = StandardScaler()\n",
    "X_Feat, y_train = df10.iloc[:, :-1].values, df10.iloc[:, -1].values\n",
    "scaler.fit(X_Feat)\n",
    "scaled_data10 = scaler.transform(X_Feat)\n",
    "\n",
    "scaler = StandardScaler()\n",
    "X_Feat_test, y_test = df10_test.iloc[:, :-1].values, df10_test.iloc[:, -1].values\n",
    "scaler.fit(X_Feat_test)\n",
    "scaled_data_test10 = scaler.transform(X_Feat_test)\n",
    "\n",
    "pca = PCA(n_components=30)\n",
    "pca.fit(scaled_data10)\n",
    "x_pca10 = pca.transform(scaled_data10)\n",
    "\n",
    "pca = PCA(n_components=30)\n",
    "pca.fit(scaled_data_test10)\n",
    "x_pca_test10 = pca.transform(scaled_data_test10)\n",
    "\n",
    "X_test = x_pca_test10\n",
    "X_train = x_pca10\n",
    "\n",
    "model = SVC()\n",
    "model.fit(X_train,y_train)\n",
    "predictions = model.predict(X_test)\n",
    "\n",
    "\n",
    "print(confusion_matrix(y_test,predictions))\n",
    "print('\\n')\n",
    "print(classification_report(y_test,predictions))\n",
    "\n",
    "score_test10 = accuracy_score(y_test,predictions)"
   ]
  },
  {
   "cell_type": "code",
   "execution_count": 1506,
   "metadata": {},
   "outputs": [
    {
     "name": "stdout",
     "output_type": "stream",
     "text": [
      "[[64  8]\n",
      " [23  1]]\n",
      "\n",
      "\n",
      "              precision    recall  f1-score   support\n",
      "\n",
      "           0       0.74      0.89      0.81        72\n",
      "           1       0.11      0.04      0.06        24\n",
      "\n",
      "    accuracy                           0.68        96\n",
      "   macro avg       0.42      0.47      0.43        96\n",
      "weighted avg       0.58      0.68      0.62        96\n",
      "\n"
     ]
    }
   ],
   "source": [
    "df11 = generate_auth_dataset(df,11, ratio=3)\n",
    "df11_test = generate_auth_dataset(df_test,11, ratio=3)\n",
    "\n",
    "scaler = StandardScaler()\n",
    "X_Feat, y_train = df11.iloc[:, :-1].values, df11.iloc[:, -1].values\n",
    "scaler.fit(X_Feat)\n",
    "scaled_data11 = scaler.transform(X_Feat)\n",
    "\n",
    "scaler = StandardScaler()\n",
    "X_Feat_test, y_test = df11_test.iloc[:, :-1].values, df11_test.iloc[:, -1].values\n",
    "scaler.fit(X_Feat_test)\n",
    "scaled_data_test11 = scaler.transform(X_Feat_test)\n",
    "\n",
    "pca = PCA(n_components=30)\n",
    "pca.fit(scaled_data11)\n",
    "x_pca11 = pca.transform(scaled_data11)\n",
    "\n",
    "pca = PCA(n_components=30)\n",
    "pca.fit(scaled_data_test11)\n",
    "x_pca_test11 = pca.transform(scaled_data_test11)\n",
    "\n",
    "X_test = x_pca_test11\n",
    "X_train = x_pca11\n",
    "\n",
    "model = SVC()\n",
    "model.fit(X_train,y_train)\n",
    "predictions = model.predict(X_test)\n",
    "\n",
    "\n",
    "print(confusion_matrix(y_test,predictions))\n",
    "print('\\n')\n",
    "print(classification_report(y_test,predictions))\n",
    "\n",
    "score_test11 = accuracy_score(y_test,predictions)"
   ]
  },
  {
   "cell_type": "code",
   "execution_count": 1507,
   "metadata": {},
   "outputs": [
    {
     "name": "stdout",
     "output_type": "stream",
     "text": [
      "[[71  1]\n",
      " [18  6]]\n",
      "\n",
      "\n",
      "              precision    recall  f1-score   support\n",
      "\n",
      "           0       0.80      0.99      0.88        72\n",
      "           1       0.86      0.25      0.39        24\n",
      "\n",
      "    accuracy                           0.80        96\n",
      "   macro avg       0.83      0.62      0.63        96\n",
      "weighted avg       0.81      0.80      0.76        96\n",
      "\n"
     ]
    }
   ],
   "source": [
    "df12 = generate_auth_dataset(df,12, ratio=3)\n",
    "df12_test = generate_auth_dataset(df_test,12, ratio=3)\n",
    "\n",
    "scaler = StandardScaler()\n",
    "X_Feat, y_train = df12.iloc[:, :-1].values, df12.iloc[:, -1].values\n",
    "scaler.fit(X_Feat)\n",
    "scaled_data12 = scaler.transform(X_Feat)\n",
    "\n",
    "scaler = StandardScaler()\n",
    "X_Feat_test, y_test = df12_test.iloc[:, :-1].values, df12_test.iloc[:, -1].values\n",
    "scaler.fit(X_Feat_test)\n",
    "scaled_data_test12 = scaler.transform(X_Feat_test)\n",
    "\n",
    "pca = PCA(n_components=30)\n",
    "pca.fit(scaled_data12)\n",
    "x_pca12 = pca.transform(scaled_data12)\n",
    "\n",
    "pca = PCA(n_components=30)\n",
    "pca.fit(scaled_data_test12)\n",
    "x_pca_test12 = pca.transform(scaled_data_test12)\n",
    "\n",
    "X_test = x_pca_test12\n",
    "X_train = x_pca12\n",
    "\n",
    "model = SVC()\n",
    "model.fit(X_train,y_train)\n",
    "predictions = model.predict(X_test)\n",
    "\n",
    "\n",
    "print(confusion_matrix(y_test,predictions))\n",
    "print('\\n')\n",
    "print(classification_report(y_test,predictions))\n",
    "\n",
    "score_test12 = accuracy_score(y_test,predictions)"
   ]
  },
  {
   "cell_type": "code",
   "execution_count": 1508,
   "metadata": {},
   "outputs": [
    {
     "name": "stdout",
     "output_type": "stream",
     "text": [
      "[[63  9]\n",
      " [21  3]]\n",
      "\n",
      "\n",
      "              precision    recall  f1-score   support\n",
      "\n",
      "           0       0.75      0.88      0.81        72\n",
      "           1       0.25      0.12      0.17        24\n",
      "\n",
      "    accuracy                           0.69        96\n",
      "   macro avg       0.50      0.50      0.49        96\n",
      "weighted avg       0.62      0.69      0.65        96\n",
      "\n"
     ]
    }
   ],
   "source": [
    "df13 = generate_auth_dataset(df,13, ratio=3)\n",
    "df13_test = generate_auth_dataset(df_test,13, ratio=3)\n",
    "\n",
    "scaler = StandardScaler()\n",
    "X_Feat, y_train = df13.iloc[:, :-1].values, df13.iloc[:, -1].values\n",
    "scaler.fit(X_Feat)\n",
    "scaled_data13 = scaler.transform(X_Feat)\n",
    "\n",
    "scaler = StandardScaler()\n",
    "X_Feat_test, y_test = df13_test.iloc[:, :-1].values, df13_test.iloc[:, -1].values\n",
    "scaler.fit(X_Feat_test)\n",
    "scaled_data_test13 = scaler.transform(X_Feat_test)\n",
    "\n",
    "pca = PCA(n_components=30)\n",
    "pca.fit(scaled_data13)\n",
    "x_pca13 = pca.transform(scaled_data13)\n",
    "\n",
    "pca = PCA(n_components=30)\n",
    "pca.fit(scaled_data_test13)\n",
    "x_pca_test13 = pca.transform(scaled_data_test13)\n",
    "\n",
    "X_test = x_pca_test13\n",
    "X_train = x_pca13\n",
    "\n",
    "model = SVC()\n",
    "model.fit(X_train,y_train)\n",
    "predictions = model.predict(X_test)\n",
    "\n",
    "\n",
    "print(confusion_matrix(y_test,predictions))\n",
    "print('\\n')\n",
    "print(classification_report(y_test,predictions))\n",
    "\n",
    "score_test13 = accuracy_score(y_test,predictions)"
   ]
  },
  {
   "cell_type": "code",
   "execution_count": 1509,
   "metadata": {},
   "outputs": [
    {
     "name": "stdout",
     "output_type": "stream",
     "text": [
      "[[71  1]\n",
      " [23  1]]\n",
      "\n",
      "\n",
      "              precision    recall  f1-score   support\n",
      "\n",
      "           0       0.76      0.99      0.86        72\n",
      "           1       0.50      0.04      0.08        24\n",
      "\n",
      "    accuracy                           0.75        96\n",
      "   macro avg       0.63      0.51      0.47        96\n",
      "weighted avg       0.69      0.75      0.66        96\n",
      "\n"
     ]
    }
   ],
   "source": [
    "df14 = generate_auth_dataset(df,14, ratio=3)\n",
    "df14_test = generate_auth_dataset(df_test,14, ratio=3)\n",
    "\n",
    "scaler = StandardScaler()\n",
    "X_Feat, y_train = df14.iloc[:, :-1].values, df14.iloc[:, -1].values\n",
    "scaler.fit(X_Feat)\n",
    "scaled_data14 = scaler.transform(X_Feat)\n",
    "\n",
    "scaler = StandardScaler()\n",
    "X_Feat_test, y_test = df14_test.iloc[:, :-1].values, df14_test.iloc[:, -1].values\n",
    "scaler.fit(X_Feat_test)\n",
    "scaled_data_test14 = scaler.transform(X_Feat_test)\n",
    "\n",
    "pca = PCA(n_components=30)\n",
    "pca.fit(scaled_data14)\n",
    "x_pca14 = pca.transform(scaled_data14)\n",
    "\n",
    "pca = PCA(n_components=30)\n",
    "pca.fit(scaled_data_test14)\n",
    "x_pca_test14 = pca.transform(scaled_data_test14)\n",
    "\n",
    "X_test = x_pca_test14\n",
    "X_train = x_pca14\n",
    "\n",
    "model = SVC()\n",
    "model.fit(X_train,y_train)\n",
    "predictions = model.predict(X_test)\n",
    "\n",
    "\n",
    "print(confusion_matrix(y_test,predictions))\n",
    "print('\\n')\n",
    "print(classification_report(y_test,predictions))\n",
    "\n",
    "score_test14 = accuracy_score(y_test,predictions)"
   ]
  },
  {
   "cell_type": "code",
   "execution_count": 1510,
   "metadata": {},
   "outputs": [
    {
     "name": "stdout",
     "output_type": "stream",
     "text": [
      "[[69  3]\n",
      " [22  2]]\n",
      "\n",
      "\n",
      "              precision    recall  f1-score   support\n",
      "\n",
      "           0       0.76      0.96      0.85        72\n",
      "           1       0.40      0.08      0.14        24\n",
      "\n",
      "    accuracy                           0.74        96\n",
      "   macro avg       0.58      0.52      0.49        96\n",
      "weighted avg       0.67      0.74      0.67        96\n",
      "\n"
     ]
    }
   ],
   "source": [
    "df15 = generate_auth_dataset(df,15, ratio=3)\n",
    "df15_test = generate_auth_dataset(df_test,15, ratio=3)\n",
    "\n",
    "scaler = StandardScaler()\n",
    "X_Feat, y_train = df15.iloc[:, :-1].values, df15.iloc[:, -1].values\n",
    "scaler.fit(X_Feat)\n",
    "scaled_data15 = scaler.transform(X_Feat)\n",
    "\n",
    "scaler = StandardScaler()\n",
    "X_Feat_test, y_test = df15_test.iloc[:, :-1].values, df15_test.iloc[:, -1].values\n",
    "scaler.fit(X_Feat_test)\n",
    "scaled_data_test15 = scaler.transform(X_Feat_test)\n",
    "\n",
    "pca = PCA(n_components=30)\n",
    "pca.fit(scaled_data15)\n",
    "x_pca15 = pca.transform(scaled_data15)\n",
    "\n",
    "pca = PCA(n_components=30)\n",
    "pca.fit(scaled_data_test15)\n",
    "x_pca_test15 = pca.transform(scaled_data_test15)\n",
    "\n",
    "X_test = x_pca_test15\n",
    "X_train = x_pca15\n",
    "\n",
    "model = SVC()\n",
    "model.fit(X_train,y_train)\n",
    "predictions = model.predict(X_test)\n",
    "\n",
    "\n",
    "print(confusion_matrix(y_test,predictions))\n",
    "print('\\n')\n",
    "print(classification_report(y_test,predictions))\n",
    "\n",
    "score_test15 = accuracy_score(y_test,predictions)"
   ]
  },
  {
   "cell_type": "code",
   "execution_count": 1511,
   "metadata": {},
   "outputs": [
    {
     "name": "stdout",
     "output_type": "stream",
     "text": [
      "[[66  6]\n",
      " [10 14]]\n",
      "\n",
      "\n",
      "              precision    recall  f1-score   support\n",
      "\n",
      "           0       0.87      0.92      0.89        72\n",
      "           1       0.70      0.58      0.64        24\n",
      "\n",
      "    accuracy                           0.83        96\n",
      "   macro avg       0.78      0.75      0.76        96\n",
      "weighted avg       0.83      0.83      0.83        96\n",
      "\n"
     ]
    }
   ],
   "source": [
    "df16 = generate_auth_dataset(df,16, ratio=3)\n",
    "df16_test = generate_auth_dataset(df_test,16, ratio=3)\n",
    "\n",
    "scaler = StandardScaler()\n",
    "X_Feat, y_train = df16.iloc[:, :-1].values, df16.iloc[:, -1].values\n",
    "scaler.fit(X_Feat)\n",
    "scaled_data16 = scaler.transform(X_Feat)\n",
    "\n",
    "scaler = StandardScaler()\n",
    "X_Feat_test, y_test = df16_test.iloc[:, :-1].values, df16_test.iloc[:, -1].values\n",
    "scaler.fit(X_Feat_test)\n",
    "scaled_data_test16 = scaler.transform(X_Feat_test)\n",
    "\n",
    "pca = PCA(n_components=30)\n",
    "pca.fit(scaled_data16)\n",
    "x_pca16 = pca.transform(scaled_data16)\n",
    "\n",
    "pca = PCA(n_components=30)\n",
    "pca.fit(scaled_data_test16)\n",
    "x_pca_test16 = pca.transform(scaled_data_test16)\n",
    "\n",
    "X_test = x_pca_test16\n",
    "X_train = x_pca16\n",
    "\n",
    "model = SVC()\n",
    "model.fit(X_train,y_train)\n",
    "predictions = model.predict(X_test)\n",
    "\n",
    "\n",
    "print(confusion_matrix(y_test,predictions))\n",
    "print('\\n')\n",
    "print(classification_report(y_test,predictions))\n",
    "\n",
    "score_test16 = accuracy_score(y_test,predictions)"
   ]
  },
  {
   "cell_type": "code",
   "execution_count": 1512,
   "metadata": {},
   "outputs": [
    {
     "name": "stdout",
     "output_type": "stream",
     "text": [
      "[[68  4]\n",
      " [23  1]]\n",
      "\n",
      "\n",
      "              precision    recall  f1-score   support\n",
      "\n",
      "           0       0.75      0.94      0.83        72\n",
      "           1       0.20      0.04      0.07        24\n",
      "\n",
      "    accuracy                           0.72        96\n",
      "   macro avg       0.47      0.49      0.45        96\n",
      "weighted avg       0.61      0.72      0.64        96\n",
      "\n"
     ]
    }
   ],
   "source": [
    "df17 = generate_auth_dataset(df,17, ratio=3)\n",
    "df17_test = generate_auth_dataset(df_test,17, ratio=3)\n",
    "\n",
    "scaler = StandardScaler()\n",
    "X_Feat, y_train = df17.iloc[:, :-1].values, df17.iloc[:, -1].values\n",
    "scaler.fit(X_Feat)\n",
    "scaled_data17 = scaler.transform(X_Feat)\n",
    "\n",
    "scaler = StandardScaler()\n",
    "X_Feat_test, y_test = df17_test.iloc[:, :-1].values, df17_test.iloc[:, -1].values\n",
    "scaler.fit(X_Feat_test)\n",
    "scaled_data_test17 = scaler.transform(X_Feat_test)\n",
    "\n",
    "pca = PCA(n_components=30)\n",
    "pca.fit(scaled_data17)\n",
    "x_pca17 = pca.transform(scaled_data17)\n",
    "\n",
    "pca = PCA(n_components=30)\n",
    "pca.fit(scaled_data_test17)\n",
    "x_pca_test17 = pca.transform(scaled_data_test17)\n",
    "\n",
    "X_test = x_pca_test17\n",
    "X_train = x_pca17\n",
    "\n",
    "model = SVC()\n",
    "model.fit(X_train,y_train)\n",
    "predictions = model.predict(X_test)\n",
    "\n",
    "\n",
    "print(confusion_matrix(y_test,predictions))\n",
    "print('\\n')\n",
    "print(classification_report(y_test,predictions))\n",
    "\n",
    "score_test17 = accuracy_score(y_test,predictions)"
   ]
  },
  {
   "cell_type": "code",
   "execution_count": 1513,
   "metadata": {},
   "outputs": [
    {
     "name": "stdout",
     "output_type": "stream",
     "text": [
      "[[55 17]\n",
      " [24  0]]\n",
      "\n",
      "\n",
      "              precision    recall  f1-score   support\n",
      "\n",
      "           0       0.70      0.76      0.73        72\n",
      "           1       0.00      0.00      0.00        24\n",
      "\n",
      "    accuracy                           0.57        96\n",
      "   macro avg       0.35      0.38      0.36        96\n",
      "weighted avg       0.52      0.57      0.55        96\n",
      "\n"
     ]
    }
   ],
   "source": [
    "df18 = generate_auth_dataset(df,18, ratio=3)\n",
    "df18_test = generate_auth_dataset(df_test,18, ratio=3)\n",
    "\n",
    "scaler = StandardScaler()\n",
    "X_Feat, y_train = df18.iloc[:, :-1].values, df18.iloc[:, -1].values\n",
    "scaler.fit(X_Feat)\n",
    "scaled_data18 = scaler.transform(X_Feat)\n",
    "\n",
    "scaler = StandardScaler()\n",
    "X_Feat_test, y_test = df18_test.iloc[:, :-1].values, df18_test.iloc[:, -1].values\n",
    "scaler.fit(X_Feat_test)\n",
    "scaled_data_test18 = scaler.transform(X_Feat_test)\n",
    "\n",
    "pca = PCA(n_components=30)\n",
    "pca.fit(scaled_data18)\n",
    "x_pca18 = pca.transform(scaled_data18)\n",
    "\n",
    "pca = PCA(n_components=30)\n",
    "pca.fit(scaled_data_test18)\n",
    "x_pca_test18 = pca.transform(scaled_data_test18)\n",
    "\n",
    "X_test = x_pca_test18\n",
    "X_train = x_pca18\n",
    "\n",
    "model = SVC()\n",
    "model.fit(X_train,y_train)\n",
    "predictions = model.predict(X_test)\n",
    "\n",
    "\n",
    "print(confusion_matrix(y_test,predictions))\n",
    "print('\\n')\n",
    "print(classification_report(y_test,predictions))\n",
    "\n",
    "score_test18 = accuracy_score(y_test,predictions)"
   ]
  },
  {
   "cell_type": "code",
   "execution_count": 1514,
   "metadata": {},
   "outputs": [
    {
     "name": "stdout",
     "output_type": "stream",
     "text": [
      "[[67  5]\n",
      " [ 0 24]]\n",
      "\n",
      "\n",
      "              precision    recall  f1-score   support\n",
      "\n",
      "           0       1.00      0.93      0.96        72\n",
      "           1       0.83      1.00      0.91        24\n",
      "\n",
      "    accuracy                           0.95        96\n",
      "   macro avg       0.91      0.97      0.93        96\n",
      "weighted avg       0.96      0.95      0.95        96\n",
      "\n"
     ]
    }
   ],
   "source": [
    "df19 = generate_auth_dataset(df,19, ratio=3)\n",
    "df19_test = generate_auth_dataset(df_test,19, ratio=3)\n",
    "\n",
    "scaler = StandardScaler()\n",
    "X_Feat, y_train = df19.iloc[:, :-1].values, df19.iloc[:, -1].values\n",
    "scaler.fit(X_Feat)\n",
    "scaled_data19 = scaler.transform(X_Feat)\n",
    "\n",
    "scaler = StandardScaler()\n",
    "X_Feat_test, y_test = df19_test.iloc[:, :-1].values, df19_test.iloc[:, -1].values\n",
    "scaler.fit(X_Feat_test)\n",
    "scaled_data_test19 = scaler.transform(X_Feat_test)\n",
    "\n",
    "pca = PCA(n_components=30)\n",
    "pca.fit(scaled_data19)\n",
    "x_pca19 = pca.transform(scaled_data19)\n",
    "\n",
    "pca = PCA(n_components=30)\n",
    "pca.fit(scaled_data_test19)\n",
    "x_pca_test19 = pca.transform(scaled_data_test19)\n",
    "\n",
    "X_test = x_pca_test19\n",
    "X_train = x_pca19\n",
    "\n",
    "model = SVC()\n",
    "model.fit(X_train,y_train)\n",
    "predictions = model.predict(X_test)\n",
    "\n",
    "\n",
    "print(confusion_matrix(y_test,predictions))\n",
    "print('\\n')\n",
    "print(classification_report(y_test,predictions))\n",
    "\n",
    "score_test19 = accuracy_score(y_test,predictions)"
   ]
  },
  {
   "cell_type": "code",
   "execution_count": 1515,
   "metadata": {},
   "outputs": [
    {
     "name": "stdout",
     "output_type": "stream",
     "text": [
      "[[57  0]\n",
      " [19  0]]\n",
      "\n",
      "\n",
      "              precision    recall  f1-score   support\n",
      "\n",
      "           0       0.75      1.00      0.86        57\n",
      "           1       0.00      0.00      0.00        19\n",
      "\n",
      "    accuracy                           0.75        76\n",
      "   macro avg       0.38      0.50      0.43        76\n",
      "weighted avg       0.56      0.75      0.64        76\n",
      "\n"
     ]
    }
   ],
   "source": [
    "df20 = generate_auth_dataset(df,20, ratio=3)\n",
    "df20_test = generate_auth_dataset(df_test,20, ratio=3)\n",
    "\n",
    "scaler = StandardScaler()\n",
    "X_Feat, y_train = df20.iloc[:, :-1].values, df20.iloc[:, -1].values\n",
    "scaler.fit(X_Feat)\n",
    "scaled_data20 = scaler.transform(X_Feat)\n",
    "\n",
    "scaler = StandardScaler()\n",
    "X_Feat_test, y_test = df20_test.iloc[:, :-1].values, df20_test.iloc[:, -1].values\n",
    "scaler.fit(X_Feat_test)\n",
    "scaled_data_test20 = scaler.transform(X_Feat_test)\n",
    "\n",
    "pca = PCA(n_components=30)\n",
    "pca.fit(scaled_data20)\n",
    "x_pca20 = pca.transform(scaled_data20)\n",
    "\n",
    "pca = PCA(n_components=30)\n",
    "pca.fit(scaled_data_test20)\n",
    "x_pca_test20 = pca.transform(scaled_data_test20)\n",
    "\n",
    "X_test = x_pca_test20\n",
    "X_train = x_pca20\n",
    "\n",
    "model = SVC()\n",
    "model.fit(X_train,y_train)\n",
    "predictions = model.predict(X_test)\n",
    "\n",
    "\n",
    "print(confusion_matrix(y_test,predictions))\n",
    "print('\\n')\n",
    "print(classification_report(y_test,predictions))\n",
    "\n",
    "score_test20 = accuracy_score(y_test,predictions)"
   ]
  },
  {
   "cell_type": "code",
   "execution_count": 1516,
   "metadata": {},
   "outputs": [
    {
     "name": "stdout",
     "output_type": "stream",
     "text": [
      "[[70  2]\n",
      " [23  1]]\n",
      "\n",
      "\n",
      "              precision    recall  f1-score   support\n",
      "\n",
      "           0       0.75      0.97      0.85        72\n",
      "           1       0.33      0.04      0.07        24\n",
      "\n",
      "    accuracy                           0.74        96\n",
      "   macro avg       0.54      0.51      0.46        96\n",
      "weighted avg       0.65      0.74      0.65        96\n",
      "\n"
     ]
    }
   ],
   "source": [
    "df21 = generate_auth_dataset(df,21, ratio=3)\n",
    "df21_test = generate_auth_dataset(df_test,21, ratio=3)\n",
    "\n",
    "scaler = StandardScaler()\n",
    "X_Feat, y_train = df21.iloc[:, :-1].values, df21.iloc[:, -1].values\n",
    "scaler.fit(X_Feat)\n",
    "scaled_data21 = scaler.transform(X_Feat)\n",
    "\n",
    "scaler = StandardScaler()\n",
    "X_Feat_test, y_test = df21_test.iloc[:, :-1].values, df21_test.iloc[:, -1].values\n",
    "scaler.fit(X_Feat_test)\n",
    "scaled_data_test21 = scaler.transform(X_Feat_test)\n",
    "\n",
    "pca = PCA(n_components=30)\n",
    "pca.fit(scaled_data21)\n",
    "x_pca21 = pca.transform(scaled_data21)\n",
    "\n",
    "pca = PCA(n_components=30)\n",
    "pca.fit(scaled_data_test21)\n",
    "x_pca_test21 = pca.transform(scaled_data_test21)\n",
    "\n",
    "X_test = x_pca_test21\n",
    "X_train = x_pca21\n",
    "\n",
    "model = SVC()\n",
    "model.fit(X_train,y_train)\n",
    "predictions = model.predict(X_test)\n",
    "\n",
    "print(confusion_matrix(y_test,predictions))\n",
    "print('\\n')\n",
    "print(classification_report(y_test,predictions))\n",
    "\n",
    "score_test21 = accuracy_score(y_test,predictions)"
   ]
  },
  {
   "cell_type": "code",
   "execution_count": 1517,
   "metadata": {},
   "outputs": [],
   "source": [
    "data = {'Score Name 10':['Subject 1', 'Subject 2', 'Subject 3', 'Subject 4', 'Subject 5', 'Subject 6','Subject 7', 'Subject 8', 'Subject 9', 'Subject 10', 'Subject 11', 'Subject 12', 'Subject 13', 'Subject 14', 'Subject 15', 'Subject 16', 'Subject 17', 'Subject 18', 'Subject 19', 'Subject 20', 'Subject 21'],\n",
    "        'Scores 10':[score_test1*100, score_test2*100, score_test3*100, score_test4*100, score_test5*100, score_test6*100, score_test7*100, score_test8*100, score_test9*100, score_test10*100, score_test11*100, score_test12*100, score_test13*100, score_test14*100, score_test15*100, score_test16*100, score_test17*100, score_test18*100, score_test19*100, score_test20*100, score_test21*100]}\n",
    "\n",
    "df_score = pd.DataFrame(data)\n",
    "#df_score.set_index('Score Name 10', inplace=True)    \n",
    "df_score_round1 = df_score.copy()\n",
    "df_score_round2 = df_score.copy()\n",
    "df_score_round3 = df_score.copy()\n",
    "df_score_round4 = df_score.copy()\n",
    "df_score_round5 = df_score.copy()\n",
    "df_score_round6 = df_score.copy()\n",
    "df_score_round7 = df_score.copy()\n",
    "df_score_round8 = df_score.copy()\n",
    "df_score_round9 = df_score.copy()\n",
    "df_score_round10 = df_score.copy()"
   ]
  },
  {
   "cell_type": "code",
   "execution_count": 1518,
   "metadata": {},
   "outputs": [
    {
     "data": {
      "text/html": [
       "<div>\n",
       "<style scoped>\n",
       "    .dataframe tbody tr th:only-of-type {\n",
       "        vertical-align: middle;\n",
       "    }\n",
       "\n",
       "    .dataframe tbody tr th {\n",
       "        vertical-align: top;\n",
       "    }\n",
       "\n",
       "    .dataframe thead th {\n",
       "        text-align: right;\n",
       "    }\n",
       "</style>\n",
       "<table border=\"1\" class=\"dataframe\">\n",
       "  <thead>\n",
       "    <tr style=\"text-align: right;\">\n",
       "      <th></th>\n",
       "      <th>Scores 1</th>\n",
       "      <th>Scores 2</th>\n",
       "      <th>Scores 3</th>\n",
       "      <th>Scores 4</th>\n",
       "      <th>Scores 5</th>\n",
       "      <th>Scores 6</th>\n",
       "      <th>Scores 7</th>\n",
       "      <th>Scores 8</th>\n",
       "      <th>Scores 9</th>\n",
       "      <th>Scores 10</th>\n",
       "    </tr>\n",
       "  </thead>\n",
       "  <tbody>\n",
       "    <tr>\n",
       "      <th>Subject 1</th>\n",
       "      <td>65.625000</td>\n",
       "      <td>69.791667</td>\n",
       "      <td>67.708333</td>\n",
       "      <td>71.875000</td>\n",
       "      <td>68.750000</td>\n",
       "      <td>70.833333</td>\n",
       "      <td>72.916667</td>\n",
       "      <td>71.875000</td>\n",
       "      <td>72.916667</td>\n",
       "      <td>68.750000</td>\n",
       "    </tr>\n",
       "    <tr>\n",
       "      <th>Subject 2</th>\n",
       "      <td>75.000000</td>\n",
       "      <td>70.833333</td>\n",
       "      <td>65.625000</td>\n",
       "      <td>63.541667</td>\n",
       "      <td>64.583333</td>\n",
       "      <td>72.916667</td>\n",
       "      <td>67.708333</td>\n",
       "      <td>70.833333</td>\n",
       "      <td>69.791667</td>\n",
       "      <td>75.000000</td>\n",
       "    </tr>\n",
       "    <tr>\n",
       "      <th>Subject 3</th>\n",
       "      <td>52.083333</td>\n",
       "      <td>40.625000</td>\n",
       "      <td>57.291667</td>\n",
       "      <td>56.250000</td>\n",
       "      <td>61.458333</td>\n",
       "      <td>43.750000</td>\n",
       "      <td>51.041667</td>\n",
       "      <td>58.333333</td>\n",
       "      <td>58.333333</td>\n",
       "      <td>38.541667</td>\n",
       "    </tr>\n",
       "    <tr>\n",
       "      <th>Subject 4</th>\n",
       "      <td>64.285714</td>\n",
       "      <td>73.214286</td>\n",
       "      <td>69.642857</td>\n",
       "      <td>69.642857</td>\n",
       "      <td>64.285714</td>\n",
       "      <td>71.428571</td>\n",
       "      <td>64.285714</td>\n",
       "      <td>75.000000</td>\n",
       "      <td>73.214286</td>\n",
       "      <td>76.785714</td>\n",
       "    </tr>\n",
       "    <tr>\n",
       "      <th>Subject 5</th>\n",
       "      <td>75.000000</td>\n",
       "      <td>73.958333</td>\n",
       "      <td>75.000000</td>\n",
       "      <td>73.958333</td>\n",
       "      <td>73.958333</td>\n",
       "      <td>75.000000</td>\n",
       "      <td>75.000000</td>\n",
       "      <td>75.000000</td>\n",
       "      <td>71.875000</td>\n",
       "      <td>73.958333</td>\n",
       "    </tr>\n",
       "    <tr>\n",
       "      <th>Subject 6</th>\n",
       "      <td>72.916667</td>\n",
       "      <td>75.000000</td>\n",
       "      <td>70.833333</td>\n",
       "      <td>71.875000</td>\n",
       "      <td>78.125000</td>\n",
       "      <td>75.000000</td>\n",
       "      <td>73.958333</td>\n",
       "      <td>73.958333</td>\n",
       "      <td>77.083333</td>\n",
       "      <td>72.916667</td>\n",
       "    </tr>\n",
       "    <tr>\n",
       "      <th>Subject 7</th>\n",
       "      <td>70.833333</td>\n",
       "      <td>75.000000</td>\n",
       "      <td>73.958333</td>\n",
       "      <td>75.000000</td>\n",
       "      <td>73.958333</td>\n",
       "      <td>73.958333</td>\n",
       "      <td>76.041667</td>\n",
       "      <td>70.833333</td>\n",
       "      <td>67.708333</td>\n",
       "      <td>73.958333</td>\n",
       "    </tr>\n",
       "    <tr>\n",
       "      <th>Subject 8</th>\n",
       "      <td>65.625000</td>\n",
       "      <td>66.666667</td>\n",
       "      <td>64.583333</td>\n",
       "      <td>58.333333</td>\n",
       "      <td>62.500000</td>\n",
       "      <td>62.500000</td>\n",
       "      <td>58.333333</td>\n",
       "      <td>57.291667</td>\n",
       "      <td>61.458333</td>\n",
       "      <td>55.208333</td>\n",
       "    </tr>\n",
       "    <tr>\n",
       "      <th>Subject 9</th>\n",
       "      <td>72.916667</td>\n",
       "      <td>70.833333</td>\n",
       "      <td>57.291667</td>\n",
       "      <td>80.208333</td>\n",
       "      <td>72.916667</td>\n",
       "      <td>65.625000</td>\n",
       "      <td>90.625000</td>\n",
       "      <td>78.125000</td>\n",
       "      <td>76.041667</td>\n",
       "      <td>71.875000</td>\n",
       "    </tr>\n",
       "    <tr>\n",
       "      <th>Subject 10</th>\n",
       "      <td>71.590909</td>\n",
       "      <td>68.181818</td>\n",
       "      <td>73.863636</td>\n",
       "      <td>75.000000</td>\n",
       "      <td>69.318182</td>\n",
       "      <td>70.454545</td>\n",
       "      <td>67.045455</td>\n",
       "      <td>75.000000</td>\n",
       "      <td>73.863636</td>\n",
       "      <td>72.727273</td>\n",
       "    </tr>\n",
       "    <tr>\n",
       "      <th>Subject 11</th>\n",
       "      <td>67.708333</td>\n",
       "      <td>69.791667</td>\n",
       "      <td>64.583333</td>\n",
       "      <td>76.041667</td>\n",
       "      <td>81.250000</td>\n",
       "      <td>70.833333</td>\n",
       "      <td>60.416667</td>\n",
       "      <td>67.708333</td>\n",
       "      <td>61.458333</td>\n",
       "      <td>67.708333</td>\n",
       "    </tr>\n",
       "    <tr>\n",
       "      <th>Subject 12</th>\n",
       "      <td>71.875000</td>\n",
       "      <td>78.125000</td>\n",
       "      <td>76.041667</td>\n",
       "      <td>69.791667</td>\n",
       "      <td>70.833333</td>\n",
       "      <td>72.916667</td>\n",
       "      <td>67.708333</td>\n",
       "      <td>70.833333</td>\n",
       "      <td>66.666667</td>\n",
       "      <td>80.208333</td>\n",
       "    </tr>\n",
       "    <tr>\n",
       "      <th>Subject 13</th>\n",
       "      <td>69.791667</td>\n",
       "      <td>72.916667</td>\n",
       "      <td>71.875000</td>\n",
       "      <td>73.958333</td>\n",
       "      <td>80.208333</td>\n",
       "      <td>73.958333</td>\n",
       "      <td>66.666667</td>\n",
       "      <td>71.875000</td>\n",
       "      <td>72.916667</td>\n",
       "      <td>68.750000</td>\n",
       "    </tr>\n",
       "    <tr>\n",
       "      <th>Subject 14</th>\n",
       "      <td>75.000000</td>\n",
       "      <td>76.041667</td>\n",
       "      <td>72.916667</td>\n",
       "      <td>72.916667</td>\n",
       "      <td>70.833333</td>\n",
       "      <td>73.958333</td>\n",
       "      <td>76.041667</td>\n",
       "      <td>78.125000</td>\n",
       "      <td>66.666667</td>\n",
       "      <td>75.000000</td>\n",
       "    </tr>\n",
       "    <tr>\n",
       "      <th>Subject 15</th>\n",
       "      <td>62.500000</td>\n",
       "      <td>72.916667</td>\n",
       "      <td>76.041667</td>\n",
       "      <td>78.125000</td>\n",
       "      <td>69.791667</td>\n",
       "      <td>80.208333</td>\n",
       "      <td>68.750000</td>\n",
       "      <td>69.791667</td>\n",
       "      <td>75.000000</td>\n",
       "      <td>73.958333</td>\n",
       "    </tr>\n",
       "    <tr>\n",
       "      <th>Subject 16</th>\n",
       "      <td>71.875000</td>\n",
       "      <td>77.083333</td>\n",
       "      <td>72.916667</td>\n",
       "      <td>66.666667</td>\n",
       "      <td>75.000000</td>\n",
       "      <td>76.041667</td>\n",
       "      <td>64.583333</td>\n",
       "      <td>71.875000</td>\n",
       "      <td>78.125000</td>\n",
       "      <td>83.333333</td>\n",
       "    </tr>\n",
       "    <tr>\n",
       "      <th>Subject 17</th>\n",
       "      <td>68.750000</td>\n",
       "      <td>78.125000</td>\n",
       "      <td>70.833333</td>\n",
       "      <td>66.666667</td>\n",
       "      <td>66.666667</td>\n",
       "      <td>69.791667</td>\n",
       "      <td>58.333333</td>\n",
       "      <td>75.000000</td>\n",
       "      <td>68.750000</td>\n",
       "      <td>71.875000</td>\n",
       "    </tr>\n",
       "    <tr>\n",
       "      <th>Subject 18</th>\n",
       "      <td>61.458333</td>\n",
       "      <td>63.541667</td>\n",
       "      <td>57.291667</td>\n",
       "      <td>67.708333</td>\n",
       "      <td>61.458333</td>\n",
       "      <td>58.333333</td>\n",
       "      <td>61.458333</td>\n",
       "      <td>60.416667</td>\n",
       "      <td>67.708333</td>\n",
       "      <td>57.291667</td>\n",
       "    </tr>\n",
       "    <tr>\n",
       "      <th>Subject 19</th>\n",
       "      <td>86.458333</td>\n",
       "      <td>89.583333</td>\n",
       "      <td>94.791667</td>\n",
       "      <td>45.833333</td>\n",
       "      <td>91.666667</td>\n",
       "      <td>43.750000</td>\n",
       "      <td>75.000000</td>\n",
       "      <td>92.708333</td>\n",
       "      <td>89.583333</td>\n",
       "      <td>94.791667</td>\n",
       "    </tr>\n",
       "    <tr>\n",
       "      <th>Subject 20</th>\n",
       "      <td>71.052632</td>\n",
       "      <td>75.000000</td>\n",
       "      <td>72.368421</td>\n",
       "      <td>71.052632</td>\n",
       "      <td>72.368421</td>\n",
       "      <td>72.368421</td>\n",
       "      <td>73.684211</td>\n",
       "      <td>73.684211</td>\n",
       "      <td>75.000000</td>\n",
       "      <td>75.000000</td>\n",
       "    </tr>\n",
       "    <tr>\n",
       "      <th>Subject 21</th>\n",
       "      <td>68.750000</td>\n",
       "      <td>72.916667</td>\n",
       "      <td>75.000000</td>\n",
       "      <td>64.583333</td>\n",
       "      <td>71.875000</td>\n",
       "      <td>72.916667</td>\n",
       "      <td>69.791667</td>\n",
       "      <td>72.916667</td>\n",
       "      <td>65.625000</td>\n",
       "      <td>73.958333</td>\n",
       "    </tr>\n",
       "  </tbody>\n",
       "</table>\n",
       "</div>"
      ],
      "text/plain": [
       "             Scores 1   Scores 2   Scores 3   Scores 4   Scores 5   Scores 6  \\\n",
       "Subject 1   65.625000  69.791667  67.708333  71.875000  68.750000  70.833333   \n",
       "Subject 2   75.000000  70.833333  65.625000  63.541667  64.583333  72.916667   \n",
       "Subject 3   52.083333  40.625000  57.291667  56.250000  61.458333  43.750000   \n",
       "Subject 4   64.285714  73.214286  69.642857  69.642857  64.285714  71.428571   \n",
       "Subject 5   75.000000  73.958333  75.000000  73.958333  73.958333  75.000000   \n",
       "Subject 6   72.916667  75.000000  70.833333  71.875000  78.125000  75.000000   \n",
       "Subject 7   70.833333  75.000000  73.958333  75.000000  73.958333  73.958333   \n",
       "Subject 8   65.625000  66.666667  64.583333  58.333333  62.500000  62.500000   \n",
       "Subject 9   72.916667  70.833333  57.291667  80.208333  72.916667  65.625000   \n",
       "Subject 10  71.590909  68.181818  73.863636  75.000000  69.318182  70.454545   \n",
       "Subject 11  67.708333  69.791667  64.583333  76.041667  81.250000  70.833333   \n",
       "Subject 12  71.875000  78.125000  76.041667  69.791667  70.833333  72.916667   \n",
       "Subject 13  69.791667  72.916667  71.875000  73.958333  80.208333  73.958333   \n",
       "Subject 14  75.000000  76.041667  72.916667  72.916667  70.833333  73.958333   \n",
       "Subject 15  62.500000  72.916667  76.041667  78.125000  69.791667  80.208333   \n",
       "Subject 16  71.875000  77.083333  72.916667  66.666667  75.000000  76.041667   \n",
       "Subject 17  68.750000  78.125000  70.833333  66.666667  66.666667  69.791667   \n",
       "Subject 18  61.458333  63.541667  57.291667  67.708333  61.458333  58.333333   \n",
       "Subject 19  86.458333  89.583333  94.791667  45.833333  91.666667  43.750000   \n",
       "Subject 20  71.052632  75.000000  72.368421  71.052632  72.368421  72.368421   \n",
       "Subject 21  68.750000  72.916667  75.000000  64.583333  71.875000  72.916667   \n",
       "\n",
       "             Scores 7   Scores 8   Scores 9  Scores 10  \n",
       "Subject 1   72.916667  71.875000  72.916667  68.750000  \n",
       "Subject 2   67.708333  70.833333  69.791667  75.000000  \n",
       "Subject 3   51.041667  58.333333  58.333333  38.541667  \n",
       "Subject 4   64.285714  75.000000  73.214286  76.785714  \n",
       "Subject 5   75.000000  75.000000  71.875000  73.958333  \n",
       "Subject 6   73.958333  73.958333  77.083333  72.916667  \n",
       "Subject 7   76.041667  70.833333  67.708333  73.958333  \n",
       "Subject 8   58.333333  57.291667  61.458333  55.208333  \n",
       "Subject 9   90.625000  78.125000  76.041667  71.875000  \n",
       "Subject 10  67.045455  75.000000  73.863636  72.727273  \n",
       "Subject 11  60.416667  67.708333  61.458333  67.708333  \n",
       "Subject 12  67.708333  70.833333  66.666667  80.208333  \n",
       "Subject 13  66.666667  71.875000  72.916667  68.750000  \n",
       "Subject 14  76.041667  78.125000  66.666667  75.000000  \n",
       "Subject 15  68.750000  69.791667  75.000000  73.958333  \n",
       "Subject 16  64.583333  71.875000  78.125000  83.333333  \n",
       "Subject 17  58.333333  75.000000  68.750000  71.875000  \n",
       "Subject 18  61.458333  60.416667  67.708333  57.291667  \n",
       "Subject 19  75.000000  92.708333  89.583333  94.791667  \n",
       "Subject 20  73.684211  73.684211  75.000000  75.000000  \n",
       "Subject 21  69.791667  72.916667  65.625000  73.958333  "
      ]
     },
     "execution_count": 1518,
     "metadata": {},
     "output_type": "execute_result"
    }
   ],
   "source": [
    "result = pd.concat([df_score_round1,df_score_round2,df_score_round3,df_score_round4,df_score_round5,df_score_round6,df_score_round7,df_score_round8,df_score_round9,df_score_round10], axis=1)\n",
    "result"
   ]
  },
  {
   "cell_type": "code",
   "execution_count": 1519,
   "metadata": {},
   "outputs": [],
   "source": [
    "s1 = result.iloc[0].mean()\n",
    "s2 = result.iloc[1].mean()\n",
    "s3 = result.iloc[2].mean()\n",
    "s4 = result.iloc[3].mean()\n",
    "s5 = result.iloc[4].mean()\n",
    "s6 = result.iloc[5].mean()\n",
    "s7 = result.iloc[6].mean()\n",
    "s8 = result.iloc[7].mean()\n",
    "s9 = result.iloc[8].mean()\n",
    "s10 = result.iloc[9].mean()\n",
    "s11 = result.iloc[10].mean()\n",
    "s12 = result.iloc[11].mean()\n",
    "s13 = result.iloc[12].mean()\n",
    "s14 = result.iloc[13].mean()\n",
    "s15 = result.iloc[14].mean()\n",
    "s16 = result.iloc[15].mean()\n",
    "s17 = result.iloc[16].mean()\n",
    "s18 = result.iloc[17].mean()\n",
    "s19 = result.iloc[18].mean()\n",
    "s20 = result.iloc[19].mean()\n",
    "s21 = result.iloc[20].mean()"
   ]
  },
  {
   "cell_type": "code",
   "execution_count": 1523,
   "metadata": {},
   "outputs": [
    {
     "data": {
      "text/html": [
       "<div>\n",
       "<style scoped>\n",
       "    .dataframe tbody tr th:only-of-type {\n",
       "        vertical-align: middle;\n",
       "    }\n",
       "\n",
       "    .dataframe tbody tr th {\n",
       "        vertical-align: top;\n",
       "    }\n",
       "\n",
       "    .dataframe thead th {\n",
       "        text-align: right;\n",
       "    }\n",
       "</style>\n",
       "<table border=\"1\" class=\"dataframe\">\n",
       "  <thead>\n",
       "    <tr style=\"text-align: right;\">\n",
       "      <th></th>\n",
       "      <th>0</th>\n",
       "      <th>1</th>\n",
       "      <th>2</th>\n",
       "      <th>3</th>\n",
       "      <th>4</th>\n",
       "      <th>5</th>\n",
       "      <th>6</th>\n",
       "      <th>7</th>\n",
       "      <th>8</th>\n",
       "      <th>9</th>\n",
       "      <th>...</th>\n",
       "      <th>11</th>\n",
       "      <th>12</th>\n",
       "      <th>13</th>\n",
       "      <th>14</th>\n",
       "      <th>15</th>\n",
       "      <th>16</th>\n",
       "      <th>17</th>\n",
       "      <th>18</th>\n",
       "      <th>19</th>\n",
       "      <th>20</th>\n",
       "    </tr>\n",
       "  </thead>\n",
       "  <tbody>\n",
       "    <tr>\n",
       "      <th>Stimulus 1</th>\n",
       "      <td>70.104167</td>\n",
       "      <td>69.583333</td>\n",
       "      <td>51.770833</td>\n",
       "      <td>70.178571</td>\n",
       "      <td>74.270833</td>\n",
       "      <td>74.166667</td>\n",
       "      <td>73.125</td>\n",
       "      <td>61.25</td>\n",
       "      <td>73.645833</td>\n",
       "      <td>71.704545</td>\n",
       "      <td>...</td>\n",
       "      <td>72.5</td>\n",
       "      <td>72.291667</td>\n",
       "      <td>73.75</td>\n",
       "      <td>72.708333</td>\n",
       "      <td>73.75</td>\n",
       "      <td>69.479167</td>\n",
       "      <td>61.666667</td>\n",
       "      <td>80.416667</td>\n",
       "      <td>73.157895</td>\n",
       "      <td>70.833333</td>\n",
       "    </tr>\n",
       "  </tbody>\n",
       "</table>\n",
       "<p>1 rows × 21 columns</p>\n",
       "</div>"
      ],
      "text/plain": [
       "                   0          1          2          3          4          5   \\\n",
       "Stimulus 1  70.104167  69.583333  51.770833  70.178571  74.270833  74.166667   \n",
       "\n",
       "                6      7          8          9   ...    11         12     13  \\\n",
       "Stimulus 1  73.125  61.25  73.645833  71.704545  ...  72.5  72.291667  73.75   \n",
       "\n",
       "                   14     15         16         17         18         19  \\\n",
       "Stimulus 1  72.708333  73.75  69.479167  61.666667  80.416667  73.157895   \n",
       "\n",
       "                   20  \n",
       "Stimulus 1  70.833333  \n",
       "\n",
       "[1 rows x 21 columns]"
      ]
     },
     "execution_count": 1523,
     "metadata": {},
     "output_type": "execute_result"
    }
   ],
   "source": [
    "test_result = pd.DataFrame({'Stimulus 1': [s1,s2,s3,s4,s5,s6,s7,s8,s9,s10,s11,s12,s13,s14,s15,s16,s17,s18,s19,s20,s21]})\n",
    "test_result.transpose()"
   ]
  },
  {
   "cell_type": "markdown",
   "metadata": {},
   "source": [
    "# STATISTICAL TEST"
   ]
  },
  {
   "cell_type": "code",
   "execution_count": 1524,
   "metadata": {},
   "outputs": [
    {
     "data": {
      "text/html": [
       "<div>\n",
       "<style scoped>\n",
       "    .dataframe tbody tr th:only-of-type {\n",
       "        vertical-align: middle;\n",
       "    }\n",
       "\n",
       "    .dataframe tbody tr th {\n",
       "        vertical-align: top;\n",
       "    }\n",
       "\n",
       "    .dataframe thead th {\n",
       "        text-align: right;\n",
       "    }\n",
       "</style>\n",
       "<table border=\"1\" class=\"dataframe\">\n",
       "  <thead>\n",
       "    <tr style=\"text-align: right;\">\n",
       "      <th></th>\n",
       "      <th>0</th>\n",
       "      <th>1</th>\n",
       "      <th>2</th>\n",
       "      <th>3</th>\n",
       "      <th>4</th>\n",
       "      <th>5</th>\n",
       "      <th>6</th>\n",
       "      <th>7</th>\n",
       "      <th>8</th>\n",
       "      <th>9</th>\n",
       "      <th>...</th>\n",
       "      <th>11</th>\n",
       "      <th>12</th>\n",
       "      <th>13</th>\n",
       "      <th>14</th>\n",
       "      <th>15</th>\n",
       "      <th>16</th>\n",
       "      <th>17</th>\n",
       "      <th>18</th>\n",
       "      <th>19</th>\n",
       "      <th>20</th>\n",
       "    </tr>\n",
       "  </thead>\n",
       "  <tbody>\n",
       "    <tr>\n",
       "      <th>Stimulus 2</th>\n",
       "      <td>71.358696</td>\n",
       "      <td>79.146341</td>\n",
       "      <td>71.646341</td>\n",
       "      <td>73.586957</td>\n",
       "      <td>72.445652</td>\n",
       "      <td>71.684783</td>\n",
       "      <td>82.119565</td>\n",
       "      <td>72.119565</td>\n",
       "      <td>71.847826</td>\n",
       "      <td>67.445652</td>\n",
       "      <td>...</td>\n",
       "      <td>78.913043</td>\n",
       "      <td>80.217391</td>\n",
       "      <td>68.967391</td>\n",
       "      <td>72.934783</td>\n",
       "      <td>84.021739</td>\n",
       "      <td>72.663043</td>\n",
       "      <td>57.663043</td>\n",
       "      <td>72.5</td>\n",
       "      <td>73.977273</td>\n",
       "      <td>76.576087</td>\n",
       "    </tr>\n",
       "  </tbody>\n",
       "</table>\n",
       "<p>1 rows × 21 columns</p>\n",
       "</div>"
      ],
      "text/plain": [
       "                   0          1          2          3          4          5   \\\n",
       "Stimulus 2  71.358696  79.146341  71.646341  73.586957  72.445652  71.684783   \n",
       "\n",
       "                   6          7          8          9   ...         11  \\\n",
       "Stimulus 2  82.119565  72.119565  71.847826  67.445652  ...  78.913043   \n",
       "\n",
       "                   12         13         14         15         16         17  \\\n",
       "Stimulus 2  80.217391  68.967391  72.934783  84.021739  72.663043  57.663043   \n",
       "\n",
       "              18         19         20  \n",
       "Stimulus 2  72.5  73.977273  76.576087  \n",
       "\n",
       "[1 rows x 21 columns]"
      ]
     },
     "execution_count": 1524,
     "metadata": {},
     "output_type": "execute_result"
    }
   ],
   "source": [
    "test_result2 = pd.DataFrame({'Stimulus 2': [71.358696,79.146341,71.646341,73.586957,72.445652,71.684783,82.119565,72.119565,71.847826,67.445652,68.967391,78.913043,80.217391,68.967391,72.934783,84.021739,72.663043,57.663043,72.500000,73.977273,76.576087]})\n",
    "test_result2.transpose()"
   ]
  },
  {
   "cell_type": "code",
   "execution_count": 1529,
   "metadata": {},
   "outputs": [
    {
     "data": {
      "text/html": [
       "<div>\n",
       "<style scoped>\n",
       "    .dataframe tbody tr th:only-of-type {\n",
       "        vertical-align: middle;\n",
       "    }\n",
       "\n",
       "    .dataframe tbody tr th {\n",
       "        vertical-align: top;\n",
       "    }\n",
       "\n",
       "    .dataframe thead th {\n",
       "        text-align: right;\n",
       "    }\n",
       "</style>\n",
       "<table border=\"1\" class=\"dataframe\">\n",
       "  <thead>\n",
       "    <tr style=\"text-align: right;\">\n",
       "      <th></th>\n",
       "      <th>0</th>\n",
       "      <th>1</th>\n",
       "      <th>2</th>\n",
       "      <th>3</th>\n",
       "      <th>4</th>\n",
       "      <th>5</th>\n",
       "      <th>6</th>\n",
       "      <th>7</th>\n",
       "      <th>8</th>\n",
       "      <th>9</th>\n",
       "      <th>...</th>\n",
       "      <th>11</th>\n",
       "      <th>12</th>\n",
       "      <th>13</th>\n",
       "      <th>14</th>\n",
       "      <th>15</th>\n",
       "      <th>16</th>\n",
       "      <th>17</th>\n",
       "      <th>18</th>\n",
       "      <th>19</th>\n",
       "      <th>20</th>\n",
       "    </tr>\n",
       "  </thead>\n",
       "  <tbody>\n",
       "    <tr>\n",
       "      <th>Stimulus 1</th>\n",
       "      <td>70.104167</td>\n",
       "      <td>69.583333</td>\n",
       "      <td>51.770833</td>\n",
       "      <td>70.178571</td>\n",
       "      <td>74.270833</td>\n",
       "      <td>74.166667</td>\n",
       "      <td>73.125000</td>\n",
       "      <td>61.250000</td>\n",
       "      <td>73.645833</td>\n",
       "      <td>71.704545</td>\n",
       "      <td>...</td>\n",
       "      <td>72.500000</td>\n",
       "      <td>72.291667</td>\n",
       "      <td>73.750000</td>\n",
       "      <td>72.708333</td>\n",
       "      <td>73.750000</td>\n",
       "      <td>69.479167</td>\n",
       "      <td>61.666667</td>\n",
       "      <td>80.416667</td>\n",
       "      <td>73.157895</td>\n",
       "      <td>70.833333</td>\n",
       "    </tr>\n",
       "    <tr>\n",
       "      <th>Stimulus 2</th>\n",
       "      <td>71.358696</td>\n",
       "      <td>79.146341</td>\n",
       "      <td>71.646341</td>\n",
       "      <td>73.586957</td>\n",
       "      <td>72.445652</td>\n",
       "      <td>71.684783</td>\n",
       "      <td>82.119565</td>\n",
       "      <td>72.119565</td>\n",
       "      <td>71.847826</td>\n",
       "      <td>67.445652</td>\n",
       "      <td>...</td>\n",
       "      <td>78.913043</td>\n",
       "      <td>80.217391</td>\n",
       "      <td>68.967391</td>\n",
       "      <td>72.934783</td>\n",
       "      <td>84.021739</td>\n",
       "      <td>72.663043</td>\n",
       "      <td>57.663043</td>\n",
       "      <td>72.500000</td>\n",
       "      <td>73.977273</td>\n",
       "      <td>76.576087</td>\n",
       "    </tr>\n",
       "  </tbody>\n",
       "</table>\n",
       "<p>2 rows × 21 columns</p>\n",
       "</div>"
      ],
      "text/plain": [
       "                   0          1          2          3          4          5   \\\n",
       "Stimulus 1  70.104167  69.583333  51.770833  70.178571  74.270833  74.166667   \n",
       "Stimulus 2  71.358696  79.146341  71.646341  73.586957  72.445652  71.684783   \n",
       "\n",
       "                   6          7          8          9   ...         11  \\\n",
       "Stimulus 1  73.125000  61.250000  73.645833  71.704545  ...  72.500000   \n",
       "Stimulus 2  82.119565  72.119565  71.847826  67.445652  ...  78.913043   \n",
       "\n",
       "                   12         13         14         15         16         17  \\\n",
       "Stimulus 1  72.291667  73.750000  72.708333  73.750000  69.479167  61.666667   \n",
       "Stimulus 2  80.217391  68.967391  72.934783  84.021739  72.663043  57.663043   \n",
       "\n",
       "                   18         19         20  \n",
       "Stimulus 1  80.416667  73.157895  70.833333  \n",
       "Stimulus 2  72.500000  73.977273  76.576087  \n",
       "\n",
       "[2 rows x 21 columns]"
      ]
     },
     "execution_count": 1529,
     "metadata": {},
     "output_type": "execute_result"
    }
   ],
   "source": [
    "statistical_test = pd.DataFrame({'Stimulus 1': [s1,s2,s3,s4,s5,s6,s7,s8,s9,s10,s11,s12,s13,s14,s15,s16,s17,s18,s19,s20,s21],'Stimulus 2': [71.358696,79.146341,71.646341,73.586957,72.445652,71.684783,82.119565,72.119565,71.847826,67.445652,68.967391,78.913043,80.217391,68.967391,72.934783,84.021739,72.663043,57.663043,72.500000,73.977273,76.576087]})\n",
    "statistical_test.transpose()"
   ]
  },
  {
   "cell_type": "code",
   "execution_count": 1531,
   "metadata": {},
   "outputs": [
    {
     "data": {
      "text/html": [
       "<div>\n",
       "<style scoped>\n",
       "    .dataframe tbody tr th:only-of-type {\n",
       "        vertical-align: middle;\n",
       "    }\n",
       "\n",
       "    .dataframe tbody tr th {\n",
       "        vertical-align: top;\n",
       "    }\n",
       "\n",
       "    .dataframe thead th {\n",
       "        text-align: right;\n",
       "    }\n",
       "</style>\n",
       "<table border=\"1\" class=\"dataframe\">\n",
       "  <thead>\n",
       "    <tr style=\"text-align: right;\">\n",
       "      <th></th>\n",
       "      <th>0</th>\n",
       "      <th>1</th>\n",
       "      <th>2</th>\n",
       "      <th>3</th>\n",
       "      <th>4</th>\n",
       "      <th>5</th>\n",
       "      <th>6</th>\n",
       "      <th>7</th>\n",
       "      <th>8</th>\n",
       "      <th>9</th>\n",
       "      <th>...</th>\n",
       "      <th>11</th>\n",
       "      <th>12</th>\n",
       "      <th>13</th>\n",
       "      <th>14</th>\n",
       "      <th>15</th>\n",
       "      <th>16</th>\n",
       "      <th>17</th>\n",
       "      <th>18</th>\n",
       "      <th>19</th>\n",
       "      <th>20</th>\n",
       "    </tr>\n",
       "  </thead>\n",
       "  <tbody>\n",
       "    <tr>\n",
       "      <th>Stimulus 1</th>\n",
       "      <td>70.104167</td>\n",
       "      <td>69.583333</td>\n",
       "      <td>51.770833</td>\n",
       "      <td>70.178571</td>\n",
       "      <td>74.270833</td>\n",
       "      <td>74.166667</td>\n",
       "      <td>73.125000</td>\n",
       "      <td>61.250000</td>\n",
       "      <td>73.645833</td>\n",
       "      <td>71.704545</td>\n",
       "      <td>...</td>\n",
       "      <td>72.500000</td>\n",
       "      <td>72.291667</td>\n",
       "      <td>73.750000</td>\n",
       "      <td>72.708333</td>\n",
       "      <td>73.750000</td>\n",
       "      <td>69.479167</td>\n",
       "      <td>61.666667</td>\n",
       "      <td>80.416667</td>\n",
       "      <td>73.157895</td>\n",
       "      <td>70.833333</td>\n",
       "    </tr>\n",
       "    <tr>\n",
       "      <th>Stimulus 2</th>\n",
       "      <td>71.358696</td>\n",
       "      <td>79.146341</td>\n",
       "      <td>71.646341</td>\n",
       "      <td>73.586957</td>\n",
       "      <td>72.445652</td>\n",
       "      <td>71.684783</td>\n",
       "      <td>82.119565</td>\n",
       "      <td>72.119565</td>\n",
       "      <td>71.847826</td>\n",
       "      <td>67.445652</td>\n",
       "      <td>...</td>\n",
       "      <td>78.913043</td>\n",
       "      <td>80.217391</td>\n",
       "      <td>68.967391</td>\n",
       "      <td>72.934783</td>\n",
       "      <td>84.021739</td>\n",
       "      <td>72.663043</td>\n",
       "      <td>57.663043</td>\n",
       "      <td>72.500000</td>\n",
       "      <td>73.977273</td>\n",
       "      <td>76.576087</td>\n",
       "    </tr>\n",
       "  </tbody>\n",
       "</table>\n",
       "<p>2 rows × 21 columns</p>\n",
       "</div>"
      ],
      "text/plain": [
       "                   0          1          2          3          4          5   \\\n",
       "Stimulus 1  70.104167  69.583333  51.770833  70.178571  74.270833  74.166667   \n",
       "Stimulus 2  71.358696  79.146341  71.646341  73.586957  72.445652  71.684783   \n",
       "\n",
       "                   6          7          8          9   ...         11  \\\n",
       "Stimulus 1  73.125000  61.250000  73.645833  71.704545  ...  72.500000   \n",
       "Stimulus 2  82.119565  72.119565  71.847826  67.445652  ...  78.913043   \n",
       "\n",
       "                   12         13         14         15         16         17  \\\n",
       "Stimulus 1  72.291667  73.750000  72.708333  73.750000  69.479167  61.666667   \n",
       "Stimulus 2  80.217391  68.967391  72.934783  84.021739  72.663043  57.663043   \n",
       "\n",
       "                   18         19         20  \n",
       "Stimulus 1  80.416667  73.157895  70.833333  \n",
       "Stimulus 2  72.500000  73.977273  76.576087  \n",
       "\n",
       "[2 rows x 21 columns]"
      ]
     },
     "execution_count": 1531,
     "metadata": {},
     "output_type": "execute_result"
    }
   ],
   "source": [
    "df_statistics = statistical_test.transpose().copy()\n",
    "df_statistics"
   ]
  },
  {
   "cell_type": "code",
   "execution_count": 1575,
   "metadata": {},
   "outputs": [],
   "source": [
    "df_dist = df_statistics.transpose()"
   ]
  },
  {
   "cell_type": "code",
   "execution_count": 1543,
   "metadata": {},
   "outputs": [],
   "source": [
    "import seaborn as sns"
   ]
  },
  {
   "cell_type": "code",
   "execution_count": 1548,
   "metadata": {},
   "outputs": [
    {
     "data": {
      "image/png": "[encoded data removed]",
      "text/plain": [
       "<Figure size 432x288 with 1 Axes>"
      ]
     },
     "metadata": {
      "needs_background": "light"
     },
     "output_type": "display_data"
    }
   ],
   "source": [
    "tips = sns.distplot(df_dist['Stimulus 1'],bins=30)"
   ]
  },
  {
   "cell_type": "code",
   "execution_count": 1547,
   "metadata": {},
   "outputs": [
    {
     "data": {
      "image/png": "[encoded data removed]",
      "text/plain": [
       "<Figure size 432x288 with 1 Axes>"
      ]
     },
     "metadata": {
      "needs_background": "light"
     },
     "output_type": "display_data"
    }
   ],
   "source": [
    "tipss = sns.distplot(df_dist['Stimulus 2'],bins=30)"
   ]
  },
  {
   "cell_type": "code",
   "execution_count": 1551,
   "metadata": {},
   "outputs": [
    {
     "data": {
      "text/plain": [
       "<seaborn.axisgrid.JointGrid at 0x1f6bf254910>"
      ]
     },
     "execution_count": 1551,
     "metadata": {},
     "output_type": "execute_result"
    },
    {
     "data": {
      "image/png": "[encoded data removed]",
      "text/plain": [
       "<Figure size 432x432 with 3 Axes>"
      ]
     },
     "metadata": {
      "needs_background": "light"
     },
     "output_type": "display_data"
    }
   ],
   "source": [
    "sns.jointplot(x='Stimulus 1',y='Stimulus 2',data=df_dist,kind='reg')"
   ]
  },
  {
   "cell_type": "markdown",
   "metadata": {},
   "source": [
    "# WILCOXON TEST"
   ]
  },
  {
   "cell_type": "code",
   "execution_count": 1552,
   "metadata": {},
   "outputs": [
    {
     "data": {
      "text/html": [
       "<div>\n",
       "<style scoped>\n",
       "    .dataframe tbody tr th:only-of-type {\n",
       "        vertical-align: middle;\n",
       "    }\n",
       "\n",
       "    .dataframe tbody tr th {\n",
       "        vertical-align: top;\n",
       "    }\n",
       "\n",
       "    .dataframe thead th {\n",
       "        text-align: right;\n",
       "    }\n",
       "</style>\n",
       "<table border=\"1\" class=\"dataframe\">\n",
       "  <thead>\n",
       "    <tr style=\"text-align: right;\">\n",
       "      <th></th>\n",
       "      <th>Stimulus 1</th>\n",
       "      <th>Stimulus 2</th>\n",
       "    </tr>\n",
       "  </thead>\n",
       "  <tbody>\n",
       "    <tr>\n",
       "      <th>0</th>\n",
       "      <td>70.104167</td>\n",
       "      <td>71.358696</td>\n",
       "    </tr>\n",
       "    <tr>\n",
       "      <th>1</th>\n",
       "      <td>69.583333</td>\n",
       "      <td>79.146341</td>\n",
       "    </tr>\n",
       "    <tr>\n",
       "      <th>2</th>\n",
       "      <td>51.770833</td>\n",
       "      <td>71.646341</td>\n",
       "    </tr>\n",
       "    <tr>\n",
       "      <th>3</th>\n",
       "      <td>70.178571</td>\n",
       "      <td>73.586957</td>\n",
       "    </tr>\n",
       "    <tr>\n",
       "      <th>4</th>\n",
       "      <td>74.270833</td>\n",
       "      <td>72.445652</td>\n",
       "    </tr>\n",
       "    <tr>\n",
       "      <th>5</th>\n",
       "      <td>74.166667</td>\n",
       "      <td>71.684783</td>\n",
       "    </tr>\n",
       "    <tr>\n",
       "      <th>6</th>\n",
       "      <td>73.125000</td>\n",
       "      <td>82.119565</td>\n",
       "    </tr>\n",
       "    <tr>\n",
       "      <th>7</th>\n",
       "      <td>61.250000</td>\n",
       "      <td>72.119565</td>\n",
       "    </tr>\n",
       "    <tr>\n",
       "      <th>8</th>\n",
       "      <td>73.645833</td>\n",
       "      <td>71.847826</td>\n",
       "    </tr>\n",
       "    <tr>\n",
       "      <th>9</th>\n",
       "      <td>71.704545</td>\n",
       "      <td>67.445652</td>\n",
       "    </tr>\n",
       "    <tr>\n",
       "      <th>10</th>\n",
       "      <td>68.750000</td>\n",
       "      <td>68.967391</td>\n",
       "    </tr>\n",
       "    <tr>\n",
       "      <th>11</th>\n",
       "      <td>72.500000</td>\n",
       "      <td>78.913043</td>\n",
       "    </tr>\n",
       "    <tr>\n",
       "      <th>12</th>\n",
       "      <td>72.291667</td>\n",
       "      <td>80.217391</td>\n",
       "    </tr>\n",
       "    <tr>\n",
       "      <th>13</th>\n",
       "      <td>73.750000</td>\n",
       "      <td>68.967391</td>\n",
       "    </tr>\n",
       "    <tr>\n",
       "      <th>14</th>\n",
       "      <td>72.708333</td>\n",
       "      <td>72.934783</td>\n",
       "    </tr>\n",
       "    <tr>\n",
       "      <th>15</th>\n",
       "      <td>73.750000</td>\n",
       "      <td>84.021739</td>\n",
       "    </tr>\n",
       "    <tr>\n",
       "      <th>16</th>\n",
       "      <td>69.479167</td>\n",
       "      <td>72.663043</td>\n",
       "    </tr>\n",
       "    <tr>\n",
       "      <th>17</th>\n",
       "      <td>61.666667</td>\n",
       "      <td>57.663043</td>\n",
       "    </tr>\n",
       "    <tr>\n",
       "      <th>18</th>\n",
       "      <td>80.416667</td>\n",
       "      <td>72.500000</td>\n",
       "    </tr>\n",
       "    <tr>\n",
       "      <th>19</th>\n",
       "      <td>73.157895</td>\n",
       "      <td>73.977273</td>\n",
       "    </tr>\n",
       "    <tr>\n",
       "      <th>20</th>\n",
       "      <td>70.833333</td>\n",
       "      <td>76.576087</td>\n",
       "    </tr>\n",
       "  </tbody>\n",
       "</table>\n",
       "</div>"
      ],
      "text/plain": [
       "    Stimulus 1  Stimulus 2\n",
       "0    70.104167   71.358696\n",
       "1    69.583333   79.146341\n",
       "2    51.770833   71.646341\n",
       "3    70.178571   73.586957\n",
       "4    74.270833   72.445652\n",
       "5    74.166667   71.684783\n",
       "6    73.125000   82.119565\n",
       "7    61.250000   72.119565\n",
       "8    73.645833   71.847826\n",
       "9    71.704545   67.445652\n",
       "10   68.750000   68.967391\n",
       "11   72.500000   78.913043\n",
       "12   72.291667   80.217391\n",
       "13   73.750000   68.967391\n",
       "14   72.708333   72.934783\n",
       "15   73.750000   84.021739\n",
       "16   69.479167   72.663043\n",
       "17   61.666667   57.663043\n",
       "18   80.416667   72.500000\n",
       "19   73.157895   73.977273\n",
       "20   70.833333   76.576087"
      ]
     },
     "execution_count": 1552,
     "metadata": {},
     "output_type": "execute_result"
    }
   ],
   "source": [
    "wilcoxon_test = df_dist.copy()\n",
    "wilcoxon_test"
   ]
  },
  {
   "cell_type": "code",
   "execution_count": 1566,
   "metadata": {},
   "outputs": [],
   "source": [
    "from scipy.stats import wilcoxon"
   ]
  },
  {
   "cell_type": "markdown",
   "metadata": {},
   "source": [
    "### ASSUMING THE TWO STIMULUS ARE DIFFERENT WITH WILCOXON"
   ]
  },
  {
   "cell_type": "code",
   "execution_count": 1567,
   "metadata": {},
   "outputs": [
    {
     "data": {
      "text/plain": [
       "WilcoxonResult(statistic=66.0, pvalue=0.08879852294921875)"
      ]
     },
     "execution_count": 1567,
     "metadata": {},
     "output_type": "execute_result"
    }
   ],
   "source": [
    "wilcoxon(wilcoxon_test['Stimulus 1'], wilcoxon_test['Stimulus 2'], correction=False)"
   ]
  },
  {
   "cell_type": "markdown",
   "metadata": {},
   "source": [
    "### With a P-Value of 0.08.:\n",
    "### H0 = There is No statistical difference between Stimulus 1 and Stimulus 2  | There is No Evidence to reject H0\n",
    "### HA = Reject the Alternate Hypothesis that Stimulus 1 and Stimulus 2 are the same."
   ]
  },
  {
   "cell_type": "markdown",
   "metadata": {},
   "source": [
    "# T-Test "
   ]
  },
  {
   "cell_type": "code",
   "execution_count": 1573,
   "metadata": {},
   "outputs": [],
   "source": [
    "from scipy import stats"
   ]
  },
  {
   "cell_type": "code",
   "execution_count": 1580,
   "metadata": {},
   "outputs": [
    {
     "data": {
      "text/plain": [
       "Ttest_indResult(statistic=-1.6373050838590408, pvalue=0.10942458424108646)"
      ]
     },
     "execution_count": 1580,
     "metadata": {},
     "output_type": "execute_result"
    }
   ],
   "source": [
    "stats.ttest_ind(wilcoxon_test['Stimulus 1'], wilcoxon_test['Stimulus 2'],equal_var=False)"
   ]
  },
  {
   "cell_type": "markdown",
   "metadata": {},
   "source": [
    "### With a P-Value of 0.1094\n",
    "### H0 = There is NO Statistical Difference between Stimulus 1 and Stimulus 2\n",
    "### H1 = Reject the Alternate Hypothesis that Stimulus 1 and Stimulus 2 are the same."
   ]
  },
  {
   "cell_type": "markdown",
   "metadata": {},
   "source": []
  }
 ],
 "metadata": {
  "interpreter": {
   "hash": "2c9b013fbfbd10b794326d2c19d5edd189c06c7c43d5cdd5adc5265cd405c3ae"
  },
  "kernelspec": {
   "display_name": "Python 3.8.5 64-bit ('base': conda)",
   "name": "python3"
  },
  "language_info": {
   "codemirror_mode": {
    "name": "ipython",
    "version": 3
   },
   "file_extension": ".py",
   "mimetype": "text/x-python",
   "name": "python",
   "nbconvert_exporter": "python",
   "pygments_lexer": "ipython3",
   "version": "3.8.5"
  },
  "orig_nbformat": 4
 },
 "nbformat": 4,
 "nbformat_minor": 2
}
